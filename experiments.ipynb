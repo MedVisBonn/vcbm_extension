{
 "cells": [
  {
   "cell_type": "code",
   "execution_count": 32,
   "id": "a8b40f1a-0d6d-4b20-b930-f030165596b9",
   "metadata": {},
   "outputs": [],
   "source": [
    "import numpy as np \n",
    "import nrrd"
   ]
  },
  {
   "cell_type": "code",
   "execution_count": 33,
   "id": "0a982398-26ef-4f2d-9518-175fc20c77b8",
   "metadata": {},
   "outputs": [],
   "source": [
    "path_rank1=\"rank-1.nrrd\"\n",
    "path_rank2=\"rank-2.nrrd\"\n",
    "path_rank3=\"rank-3.nrrd\"\n",
    "path_avg=\"avg-1-20.nrrd\"\n",
    "path_wm=\"wmvolume.nrrd\"\n",
    "selected_index=2"
   ]
  },
  {
   "cell_type": "code",
   "execution_count": 34,
   "id": "ebbf4e8e-07f2-4a8e-bbb1-7898f5bc23f0",
   "metadata": {},
   "outputs": [],
   "source": [
    "# load all datasets\n",
    "\n",
    "rank1,_ = nrrd.read(path_rank1)\n",
    "rank2,_ = nrrd.read(path_rank2)\n",
    "rank3,_ = nrrd.read(path_rank3)\n",
    "average_model,_ = nrrd.read(path_avg)\n",
    "wm, meta = nrrd.read(path_wm)"
   ]
  },
  {
   "cell_type": "code",
   "execution_count": 35,
   "id": "b941ca44-ad9b-4963-afe9-9898b8a96c92",
   "metadata": {},
   "outputs": [],
   "source": [
    "def unit_vector(vector):\n",
    "    \"\"\" Returns the unit vector of the vector.  \"\"\"\n",
    "    return vector / np.linalg.norm(vector)\n",
    "\n",
    "def angle_between(v1, v2):\n",
    "    \"\"\" Returns the angle in radians between vectors 'v1' and 'v2'::\n",
    "\n",
    "            >>> angle_between((1, 0, 0), (0, 1, 0))\n",
    "            1.5707963267948966\n",
    "            >>> angle_between((1, 0, 0), (1, 0, 0))#\n",
    "            0.0'\n",
    "            >>> angle_between((1, 0, 0), (-1, 0, 0))\n",
    "            3.141592653589793\n",
    "    \"\"\"\n",
    "    v1_u = unit_vector(v1)\n",
    "    v2_u = unit_vector(v2)\n",
    "    return np.arccos(np.abs(np.clip(np.dot(v1_u, v2_u), -1.0, 1.0)))*180/np.pi"
   ]
  },
  {
   "cell_type": "code",
   "execution_count": 36,
   "id": "b9527627-1bab-4e6e-8103-9f0f030c20a9",
   "metadata": {},
   "outputs": [],
   "source": [
    "ranks = np.concatenate((rank1,rank2,rank3), axis=1)\n",
    "retval = np.zeros((*wm.shape,3))\n",
    "for selected_index in range(1):\n",
    "    for i,j,k in np.ndindex(ranks.shape[2:]):\n",
    "        if wm[i,j,k] > 0.3:\n",
    "            out = []\n",
    "            for l in range(ranks.shape[1]):\n",
    "                out.append(angle_between(average_model[1:, selected_index, i, j, k], ranks[1:, l, i,j,k]))\n",
    "            retval[i,j,k,selected_index] = min(out)\n",
    "        "
   ]
  },
  {
   "cell_type": "code",
   "execution_count": 88,
   "id": "5c4f9c72-dd81-4186-819a-524318c55dfe",
   "metadata": {},
   "outputs": [
    {
     "data": {
      "text/plain": [
       "(4, 6, 145, 174, 145)"
      ]
     },
     "execution_count": 88,
     "metadata": {},
     "output_type": "execute_result"
    }
   ],
   "source": [
    "ranks.shape"
   ]
  },
  {
   "cell_type": "code",
   "execution_count": 53,
   "id": "949804dc-1dd4-41c3-92a9-d8b343f14332",
   "metadata": {},
   "outputs": [
    {
     "data": {
      "text/plain": [
       "5.061015133337175"
      ]
     },
     "execution_count": 53,
     "metadata": {},
     "output_type": "execute_result"
    }
   ],
   "source": [
    "np.quantile(retval[wm>0.1,:].flatten(),0.99)"
   ]
  },
  {
   "cell_type": "code",
   "execution_count": 31,
   "id": "3b53fece-335a-4fb2-98cd-e5dbda9cbc0c",
   "metadata": {},
   "outputs": [],
   "source": [
    "import matplotlib.pyplot as plt \n"
   ]
  },
  {
   "cell_type": "code",
   "execution_count": 54,
   "id": "2653f0af-a448-4b6b-b4a0-dafdb9cbd669",
   "metadata": {},
   "outputs": [
    {
     "data": {
      "text/plain": [
       "(array([1.35752e+05, 4.53920e+04, 3.39860e+04, 2.70200e+04, 2.25290e+04,\n",
       "        1.85800e+04, 1.60360e+04, 1.42740e+04, 1.24920e+04, 1.09710e+04,\n",
       "        9.81200e+03, 8.79700e+03, 7.96500e+03, 7.23500e+03, 6.65500e+03,\n",
       "        6.02200e+03, 5.49400e+03, 5.10700e+03, 4.69600e+03, 4.37900e+03,\n",
       "        4.03500e+03, 3.80200e+03, 3.46600e+03, 3.35500e+03, 3.08500e+03,\n",
       "        2.80700e+03, 2.58800e+03, 2.43900e+03, 2.29000e+03, 2.19200e+03,\n",
       "        2.06500e+03, 1.84200e+03, 1.79600e+03, 1.65200e+03, 1.51100e+03,\n",
       "        1.35800e+03, 1.28200e+03, 1.18000e+03, 1.01900e+03, 1.00900e+03,\n",
       "        9.40000e+02, 8.22000e+02, 8.02000e+02, 7.44000e+02, 6.71000e+02,\n",
       "        5.80000e+02, 5.46000e+02, 4.88000e+02, 4.75000e+02, 4.21000e+02,\n",
       "        3.80000e+02, 3.57000e+02, 2.98000e+02, 2.69000e+02, 2.60000e+02,\n",
       "        2.15000e+02, 1.95000e+02, 1.81000e+02, 1.69000e+02, 1.34000e+02,\n",
       "        1.14000e+02, 1.03000e+02, 1.06000e+02, 9.70000e+01, 8.00000e+01,\n",
       "        5.30000e+01, 5.60000e+01, 4.60000e+01, 4.50000e+01, 2.60000e+01,\n",
       "        2.90000e+01, 2.50000e+01, 2.40000e+01, 2.10000e+01, 1.50000e+01,\n",
       "        8.00000e+00, 1.40000e+01, 1.20000e+01, 1.20000e+01, 4.00000e+00,\n",
       "        6.00000e+00, 5.00000e+00, 5.00000e+00, 4.00000e+00, 1.00000e+00,\n",
       "        2.00000e+00, 1.00000e+00, 2.00000e+00, 2.00000e+00, 1.00000e+00,\n",
       "        1.00000e+00, 1.00000e+00, 0.00000e+00, 0.00000e+00, 0.00000e+00,\n",
       "        0.00000e+00, 0.00000e+00, 0.00000e+00, 0.00000e+00, 1.00000e+00]),\n",
       " array([ 0.        ,  0.16036721,  0.32073442,  0.48110163,  0.64146883,\n",
       "         0.80183604,  0.96220325,  1.12257046,  1.28293767,  1.44330488,\n",
       "         1.60367208,  1.76403929,  1.9244065 ,  2.08477371,  2.24514092,\n",
       "         2.40550813,  2.56587533,  2.72624254,  2.88660975,  3.04697696,\n",
       "         3.20734417,  3.36771138,  3.52807858,  3.68844579,  3.848813  ,\n",
       "         4.00918021,  4.16954742,  4.32991463,  4.49028183,  4.65064904,\n",
       "         4.81101625,  4.97138346,  5.13175067,  5.29211788,  5.45248508,\n",
       "         5.61285229,  5.7732195 ,  5.93358671,  6.09395392,  6.25432113,\n",
       "         6.41468833,  6.57505554,  6.73542275,  6.89578996,  7.05615717,\n",
       "         7.21652438,  7.37689159,  7.53725879,  7.697626  ,  7.85799321,\n",
       "         8.01836042,  8.17872763,  8.33909484,  8.49946204,  8.65982925,\n",
       "         8.82019646,  8.98056367,  9.14093088,  9.30129809,  9.46166529,\n",
       "         9.6220325 ,  9.78239971,  9.94276692, 10.10313413, 10.26350134,\n",
       "        10.42386854, 10.58423575, 10.74460296, 10.90497017, 11.06533738,\n",
       "        11.22570459, 11.38607179, 11.546439  , 11.70680621, 11.86717342,\n",
       "        12.02754063, 12.18790784, 12.34827504, 12.50864225, 12.66900946,\n",
       "        12.82937667, 12.98974388, 13.15011109, 13.3104783 , 13.4708455 ,\n",
       "        13.63121271, 13.79157992, 13.95194713, 14.11231434, 14.27268155,\n",
       "        14.43304875, 14.59341596, 14.75378317, 14.91415038, 15.07451759,\n",
       "        15.2348848 , 15.395252  , 15.55561921, 15.71598642, 15.87635363,\n",
       "        16.03672084]),\n",
       " <BarContainer object of 100 artists>)"
      ]
     },
     "execution_count": 54,
     "metadata": {},
     "output_type": "execute_result"
    },
    {
     "data": {
      "image/png": "[encoded data removed]",
      "text/plain": [
       "<Figure size 432x288 with 1 Axes>"
      ]
     },
     "metadata": {
      "needs_background": "light"
     },
     "output_type": "display_data"
    }
   ],
   "source": [
    "\n",
    "plt.hist(retval[wm>0.3,0].flatten(), bins=100)"
   ]
  },
  {
   "cell_type": "code",
   "execution_count": 92,
   "id": "ec755a6d-b512-4005-9718-30c796794297",
   "metadata": {},
   "outputs": [
    {
     "data": {
      "text/plain": [
       "<matplotlib.image.AxesImage at 0x7fa1c5dd1e80>"
      ]
     },
     "execution_count": 92,
     "metadata": {},
     "output_type": "execute_result"
    },
    {
     "data": {
      "image/png": "[encoded data removed]",
      "text/plain": [
       "<Figure size 432x288 with 1 Axes>"
      ]
     },
     "metadata": {
      "needs_background": "light"
     },
     "output_type": "display_data"
    }
   ],
   "source": [
    "plt.imshow(np.rot90(retval[:,87,:])/30)\n"
   ]
  },
  {
   "cell_type": "code",
   "execution_count": 3,
   "id": "5b3067ec-540d-4b33-8dec-7ae5f54446d1",
   "metadata": {},
   "outputs": [],
   "source": [
    "## Last experiment is now: low-rank-johannes/scripts/fa_tract_calc\n",
    "\n",
    "\n",
    "from math import floor\n",
    "\n",
    "def linear(point, vlinear, data):# nogil except *:\n",
    "\n",
    "    for i in range(8):\n",
    "        j = int(floor(i / 2) % 2)\n",
    "        k = int(floor(i / 4) % 2)\n",
    "        m = int(point[0] + i%2)\n",
    "        n = int(point[1] + j)\n",
    "        o = int(point[2] + k)\n",
    "        vlinear[i] =  data[m,n,o]\n",
    "   # print(vlinear)\n",
    "    for i in range(4):\n",
    "        vlinear[i] = (point[2] - floor(point[2])) * vlinear[4+i] + (1 + floor(point[2]) - point[2]) * vlinear[i]\n",
    "    for i in range(2):\n",
    "        vlinear[i] = (point[1] - floor(point[1]))* vlinear[2 + i ] +  (1 + point[1] - floor(point[1])) * vlinear[i]\n",
    "    return  (point[0] - floor(point[0])) * vlinear[1] +  (1 + floor(point[0]) - point[0]) * vlinear[0]\n",
    "\n",
    "from plyfile import PlyData\n",
    "import nibabel as nib \n",
    "import numpy as np"
   ]
  },
  {
   "cell_type": "code",
   "execution_count": 4,
   "id": "0659fe06-bc08-40be-a7b0-7cfa2adfc0ff",
   "metadata": {},
   "outputs": [],
   "source": [
    "path_ref='/mnt/uni/data/xderes/bootstrap/922854/tracts/CST_right.tck'\n",
    "path_avg='/mnt/uni/data/xderes/bootstrap/922854/output/922854-CST_right-avg-1-20-bootstrap-Trilinear_0.ply'\n",
    "path_rank='/mnt/uni/data/xderes/bootstrap/922854/output/922854-CST_right-rank-3-Trilinear_0.ply'\n",
    "path_fa='/mnt/uni/data/xderes/bootstrap/922854/ankele/dti_FA.nii.gz'"
   ]
  },
  {
   "cell_type": "code",
   "execution_count": 5,
   "id": "63c1e359-d04a-403c-ade0-46a482d72177",
   "metadata": {},
   "outputs": [
    {
     "ename": "FileNotFoundError",
     "evalue": "[Errno 2] No such file or directory: '/mnt/uni/data/xderes/bootstrap/922854/output/922854-CST_right-avg-1-20-bootstrap-Trilinear_0.ply'",
     "output_type": "error",
     "traceback": [
      "\u001b[0;31m---------------------------------------------------------------------------\u001b[0m",
      "\u001b[0;31mFileNotFoundError\u001b[0m                         Traceback (most recent call last)",
      "Input \u001b[0;32mIn [5]\u001b[0m, in \u001b[0;36m<cell line: 1>\u001b[0;34m()\u001b[0m\n\u001b[0;32m----> 1\u001b[0m \u001b[38;5;28;01mwith\u001b[39;00m \u001b[38;5;28;43mopen\u001b[39;49m\u001b[43m(\u001b[49m\u001b[43mpath_avg\u001b[49m\u001b[43m,\u001b[49m\u001b[43m \u001b[49m\u001b[38;5;124;43m'\u001b[39;49m\u001b[38;5;124;43mrb\u001b[39;49m\u001b[38;5;124;43m'\u001b[39;49m\u001b[43m)\u001b[49m \u001b[38;5;28;01mas\u001b[39;00m f:\n\u001b[1;32m      2\u001b[0m     plydata \u001b[38;5;241m=\u001b[39m PlyData\u001b[38;5;241m.\u001b[39mread(f)\n\u001b[1;32m      4\u001b[0m     num_verts \u001b[38;5;241m=\u001b[39m plydata[\u001b[38;5;124m'\u001b[39m\u001b[38;5;124mvertices\u001b[39m\u001b[38;5;124m'\u001b[39m]\u001b[38;5;241m.\u001b[39mcount\n",
      "\u001b[0;31mFileNotFoundError\u001b[0m: [Errno 2] No such file or directory: '/mnt/uni/data/xderes/bootstrap/922854/output/922854-CST_right-avg-1-20-bootstrap-Trilinear_0.ply'"
     ]
    }
   ],
   "source": [
    "with open(path_avg, 'rb') as f:\n",
    "    plydata = PlyData.read(f)\n",
    "\n",
    "    num_verts = plydata['vertices'].count\n",
    "    num_fiber = plydata['fiber'].count\n",
    "    vertices = np.ones(shape=[num_verts, 4], dtype=np.float64)\n",
    "    endindex = np.zeros(shape=[num_fiber], dtype=np.float64)\n",
    "    vertices[:, 0] = plydata['vertices'].data['x']\n",
    "    vertices[:, 1] = plydata['vertices'].data['y']\n",
    "    vertices[:, 2] = plydata['vertices'].data['z']\n",
    "    endindex[:] = plydata['fiber'].data['endindex']\n",
    "    \n",
    "    "
   ]
  },
  {
   "cell_type": "code",
   "execution_count": 6,
   "id": "8e5c9611-0e16-48bf-94a9-f6ce53b7dd54",
   "metadata": {},
   "outputs": [
    {
     "ename": "FileNotFoundError",
     "evalue": "No such file or no access: '/mnt/uni/data/xderes/bootstrap/922854/ankele/dti_FA.nii.gz'",
     "output_type": "error",
     "traceback": [
      "\u001b[0;31m---------------------------------------------------------------------------\u001b[0m",
      "\u001b[0;31mFileNotFoundError\u001b[0m                         Traceback (most recent call last)",
      "File \u001b[0;32m~/UniBonn/forschung/bonndit/venv/lib/python3.8/site-packages/nibabel/loadsave.py:42\u001b[0m, in \u001b[0;36mload\u001b[0;34m(filename, **kwargs)\u001b[0m\n\u001b[1;32m     41\u001b[0m \u001b[38;5;28;01mtry\u001b[39;00m:\n\u001b[0;32m---> 42\u001b[0m     stat_result \u001b[38;5;241m=\u001b[39m \u001b[43mos\u001b[49m\u001b[38;5;241;43m.\u001b[39;49m\u001b[43mstat\u001b[49m\u001b[43m(\u001b[49m\u001b[43mfilename\u001b[49m\u001b[43m)\u001b[49m\n\u001b[1;32m     43\u001b[0m \u001b[38;5;28;01mexcept\u001b[39;00m \u001b[38;5;167;01mOSError\u001b[39;00m:\n",
      "\u001b[0;31mFileNotFoundError\u001b[0m: [Errno 2] No such file or directory: '/mnt/uni/data/xderes/bootstrap/922854/ankele/dti_FA.nii.gz'",
      "\nDuring handling of the above exception, another exception occurred:\n",
      "\u001b[0;31mFileNotFoundError\u001b[0m                         Traceback (most recent call last)",
      "Input \u001b[0;32mIn [6]\u001b[0m, in \u001b[0;36m<cell line: 1>\u001b[0;34m()\u001b[0m\n\u001b[0;32m----> 1\u001b[0m fa_map \u001b[38;5;241m=\u001b[39m \u001b[43mnib\u001b[49m\u001b[38;5;241;43m.\u001b[39;49m\u001b[43mload\u001b[49m\u001b[43m(\u001b[49m\u001b[43mpath_fa\u001b[49m\u001b[43m)\u001b[49m\n\u001b[1;32m      2\u001b[0m \u001b[38;5;66;03m## questionable: TODO doublecheck mapping. \u001b[39;00m\n\u001b[1;32m      3\u001b[0m trafo \u001b[38;5;241m=\u001b[39m np\u001b[38;5;241m.\u001b[39mlinalg\u001b[38;5;241m.\u001b[39minv(fa_map\u001b[38;5;241m.\u001b[39maffine)\n",
      "File \u001b[0;32m~/UniBonn/forschung/bonndit/venv/lib/python3.8/site-packages/nibabel/loadsave.py:44\u001b[0m, in \u001b[0;36mload\u001b[0;34m(filename, **kwargs)\u001b[0m\n\u001b[1;32m     42\u001b[0m     stat_result \u001b[38;5;241m=\u001b[39m os\u001b[38;5;241m.\u001b[39mstat(filename)\n\u001b[1;32m     43\u001b[0m \u001b[38;5;28;01mexcept\u001b[39;00m \u001b[38;5;167;01mOSError\u001b[39;00m:\n\u001b[0;32m---> 44\u001b[0m     \u001b[38;5;28;01mraise\u001b[39;00m \u001b[38;5;167;01mFileNotFoundError\u001b[39;00m(\u001b[38;5;124mf\u001b[39m\u001b[38;5;124m\"\u001b[39m\u001b[38;5;124mNo such file or no access: \u001b[39m\u001b[38;5;124m'\u001b[39m\u001b[38;5;132;01m{\u001b[39;00mfilename\u001b[38;5;132;01m}\u001b[39;00m\u001b[38;5;124m'\u001b[39m\u001b[38;5;124m\"\u001b[39m)\n\u001b[1;32m     45\u001b[0m \u001b[38;5;28;01mif\u001b[39;00m stat_result\u001b[38;5;241m.\u001b[39mst_size \u001b[38;5;241m<\u001b[39m\u001b[38;5;241m=\u001b[39m \u001b[38;5;241m0\u001b[39m:\n\u001b[1;32m     46\u001b[0m     \u001b[38;5;28;01mraise\u001b[39;00m ImageFileError(\u001b[38;5;124mf\u001b[39m\u001b[38;5;124m\"\u001b[39m\u001b[38;5;124mEmpty file: \u001b[39m\u001b[38;5;124m'\u001b[39m\u001b[38;5;132;01m{\u001b[39;00mfilename\u001b[38;5;132;01m}\u001b[39;00m\u001b[38;5;124m'\u001b[39m\u001b[38;5;124m\"\u001b[39m)\n",
      "\u001b[0;31mFileNotFoundError\u001b[0m: No such file or no access: '/mnt/uni/data/xderes/bootstrap/922854/ankele/dti_FA.nii.gz'"
     ]
    }
   ],
   "source": [
    "fa_map = nib.load(path_fa)\n",
    "## questionable: TODO doublecheck mapping. \n",
    "trafo = np.linalg.inv(fa_map.affine)\n",
    "fa_map = fa_map.get_fdata()\n",
    "ret_val = []\n",
    "y=np.zeros((8,))\n",
    "for i in range(num_verts): \n",
    "    \n",
    "    index_coor = trafo @ vertices[i]\n",
    "  #  print(index_coor)\n",
    "    ret_val.append(linear(index_coor, y, fa_map))\n",
    "\n",
    "print(np.mean(ret_val))\n",
    "\n"
   ]
  },
  {
   "cell_type": "code",
   "execution_count": 7,
   "id": "8e6640a8-903e-44ae-9b5c-efc5335b1ae6",
   "metadata": {},
   "outputs": [],
   "source": [
    "from nibabel import streamlines as s"
   ]
  },
  {
   "cell_type": "code",
   "execution_count": 8,
   "id": "b45f5d7e-73ba-47ae-a40a-12a152613d50",
   "metadata": {},
   "outputs": [
    {
     "ename": "FileNotFoundError",
     "evalue": "[Errno 2] No such file or directory: '/mnt/uni/data/xderes/bootstrap/922854/tracts/CST_right.tck'",
     "output_type": "error",
     "traceback": [
      "\u001b[0;31m---------------------------------------------------------------------------\u001b[0m",
      "\u001b[0;31mFileNotFoundError\u001b[0m                         Traceback (most recent call last)",
      "Input \u001b[0;32mIn [8]\u001b[0m, in \u001b[0;36m<cell line: 1>\u001b[0;34m()\u001b[0m\n\u001b[0;32m----> 1\u001b[0m inval \u001b[38;5;241m=\u001b[39m \u001b[43ms\u001b[49m\u001b[38;5;241;43m.\u001b[39;49m\u001b[43mload\u001b[49m\u001b[43m(\u001b[49m\u001b[43mpath_ref\u001b[49m\u001b[43m)\u001b[49m\n\u001b[1;32m      2\u001b[0m vertices \u001b[38;5;241m=\u001b[39m np\u001b[38;5;241m.\u001b[39mones((np\u001b[38;5;241m.\u001b[39mconcatenate(inval\u001b[38;5;241m.\u001b[39mstreamlines)\u001b[38;5;241m.\u001b[39mshape[\u001b[38;5;241m0\u001b[39m], \u001b[38;5;241m4\u001b[39m))\n\u001b[1;32m      3\u001b[0m vertices[:, :\u001b[38;5;241m3\u001b[39m] \u001b[38;5;241m=\u001b[39m np\u001b[38;5;241m.\u001b[39mconcatenate(inval\u001b[38;5;241m.\u001b[39mstreamlines)\n",
      "File \u001b[0;32m~/UniBonn/forschung/bonndit/venv/lib/python3.8/site-packages/nibabel/streamlines/__init__.py:95\u001b[0m, in \u001b[0;36mload\u001b[0;34m(fileobj, lazy_load)\u001b[0m\n\u001b[1;32m     92\u001b[0m \u001b[38;5;28;01mif\u001b[39;00m tractogram_file \u001b[38;5;129;01mis\u001b[39;00m \u001b[38;5;28;01mNone\u001b[39;00m:\n\u001b[1;32m     93\u001b[0m     \u001b[38;5;28;01mraise\u001b[39;00m \u001b[38;5;167;01mValueError\u001b[39;00m(\u001b[38;5;124mf\u001b[39m\u001b[38;5;124m\"\u001b[39m\u001b[38;5;124mUnknown format for \u001b[39m\u001b[38;5;124m'\u001b[39m\u001b[38;5;124mfileobj\u001b[39m\u001b[38;5;124m'\u001b[39m\u001b[38;5;124m: \u001b[39m\u001b[38;5;132;01m{\u001b[39;00mfileobj\u001b[38;5;132;01m}\u001b[39;00m\u001b[38;5;124m\"\u001b[39m)\n\u001b[0;32m---> 95\u001b[0m \u001b[38;5;28;01mreturn\u001b[39;00m \u001b[43mtractogram_file\u001b[49m\u001b[38;5;241;43m.\u001b[39;49m\u001b[43mload\u001b[49m\u001b[43m(\u001b[49m\u001b[43mfileobj\u001b[49m\u001b[43m,\u001b[49m\u001b[43m \u001b[49m\u001b[43mlazy_load\u001b[49m\u001b[38;5;241;43m=\u001b[39;49m\u001b[43mlazy_load\u001b[49m\u001b[43m)\u001b[49m\n",
      "File \u001b[0;32m~/UniBonn/forschung/bonndit/venv/lib/python3.8/site-packages/nibabel/streamlines/tck.py:140\u001b[0m, in \u001b[0;36mTckFile.load\u001b[0;34m(cls, fileobj, lazy_load)\u001b[0m\n\u001b[1;32m    110\u001b[0m \u001b[38;5;129m@classmethod\u001b[39m\n\u001b[1;32m    111\u001b[0m \u001b[38;5;28;01mdef\u001b[39;00m \u001b[38;5;21mload\u001b[39m(\u001b[38;5;28mcls\u001b[39m, fileobj, lazy_load\u001b[38;5;241m=\u001b[39m\u001b[38;5;28;01mFalse\u001b[39;00m):\n\u001b[1;32m    112\u001b[0m     \u001b[38;5;124;03m\"\"\" Loads streamlines from a filename or file-like object.\u001b[39;00m\n\u001b[1;32m    113\u001b[0m \n\u001b[1;32m    114\u001b[0m \u001b[38;5;124;03m    Parameters\u001b[39;00m\n\u001b[0;32m   (...)\u001b[0m\n\u001b[1;32m    138\u001b[0m \u001b[38;5;124;03m    have referred to a corner.\u001b[39;00m\n\u001b[1;32m    139\u001b[0m \u001b[38;5;124;03m    \"\"\"\u001b[39;00m\n\u001b[0;32m--> 140\u001b[0m     hdr \u001b[38;5;241m=\u001b[39m \u001b[38;5;28;43mcls\u001b[39;49m\u001b[38;5;241;43m.\u001b[39;49m\u001b[43m_read_header\u001b[49m\u001b[43m(\u001b[49m\u001b[43mfileobj\u001b[49m\u001b[43m)\u001b[49m\n\u001b[1;32m    142\u001b[0m     \u001b[38;5;28;01mif\u001b[39;00m lazy_load:\n\u001b[1;32m    143\u001b[0m         \u001b[38;5;28;01mdef\u001b[39;00m \u001b[38;5;21m_read\u001b[39m():\n",
      "File \u001b[0;32m~/UniBonn/forschung/bonndit/venv/lib/python3.8/site-packages/nibabel/streamlines/tck.py:310\u001b[0m, in \u001b[0;36mTckFile._read_header\u001b[0;34m(fileobj)\u001b[0m\n\u001b[1;32m    307\u001b[0m \u001b[38;5;66;03m# Record start position if this is a file-like object\u001b[39;00m\n\u001b[1;32m    308\u001b[0m start_position \u001b[38;5;241m=\u001b[39m fileobj\u001b[38;5;241m.\u001b[39mtell() \u001b[38;5;28;01mif\u001b[39;00m \u001b[38;5;28mhasattr\u001b[39m(fileobj, \u001b[38;5;124m'\u001b[39m\u001b[38;5;124mtell\u001b[39m\u001b[38;5;124m'\u001b[39m) \u001b[38;5;28;01melse\u001b[39;00m \u001b[38;5;28;01mNone\u001b[39;00m\n\u001b[0;32m--> 310\u001b[0m \u001b[38;5;28;01mwith\u001b[39;00m \u001b[43mOpener\u001b[49m\u001b[43m(\u001b[49m\u001b[43mfileobj\u001b[49m\u001b[43m)\u001b[49m \u001b[38;5;28;01mas\u001b[39;00m f:\n\u001b[1;32m    311\u001b[0m     \u001b[38;5;66;03m# Read magic number\u001b[39;00m\n\u001b[1;32m    312\u001b[0m     magic_number \u001b[38;5;241m=\u001b[39m f\u001b[38;5;241m.\u001b[39mfobj\u001b[38;5;241m.\u001b[39mreadline()\u001b[38;5;241m.\u001b[39mstrip()\n\u001b[1;32m    314\u001b[0m     \u001b[38;5;66;03m# Read all key-value pairs contained in the header.\u001b[39;00m\n",
      "File \u001b[0;32m~/UniBonn/forschung/bonndit/venv/lib/python3.8/site-packages/nibabel/openers.py:113\u001b[0m, in \u001b[0;36mOpener.__init__\u001b[0;34m(self, fileish, *args, **kwargs)\u001b[0m\n\u001b[1;32m    110\u001b[0m \u001b[38;5;66;03m# Clear keep_open hint if it is not relevant for the file type\u001b[39;00m\n\u001b[1;32m    111\u001b[0m \u001b[38;5;28;01melse\u001b[39;00m:\n\u001b[1;32m    112\u001b[0m     kwargs\u001b[38;5;241m.\u001b[39mpop(\u001b[38;5;124m'\u001b[39m\u001b[38;5;124mkeep_open\u001b[39m\u001b[38;5;124m'\u001b[39m, \u001b[38;5;28;01mNone\u001b[39;00m)\n\u001b[0;32m--> 113\u001b[0m \u001b[38;5;28mself\u001b[39m\u001b[38;5;241m.\u001b[39mfobj \u001b[38;5;241m=\u001b[39m \u001b[43mopener\u001b[49m\u001b[43m(\u001b[49m\u001b[43mfileish\u001b[49m\u001b[43m,\u001b[49m\u001b[43m \u001b[49m\u001b[38;5;241;43m*\u001b[39;49m\u001b[43margs\u001b[49m\u001b[43m,\u001b[49m\u001b[43m \u001b[49m\u001b[38;5;241;43m*\u001b[39;49m\u001b[38;5;241;43m*\u001b[39;49m\u001b[43mkwargs\u001b[49m\u001b[43m)\u001b[49m\n\u001b[1;32m    114\u001b[0m \u001b[38;5;28mself\u001b[39m\u001b[38;5;241m.\u001b[39m_name \u001b[38;5;241m=\u001b[39m fileish\n\u001b[1;32m    115\u001b[0m \u001b[38;5;28mself\u001b[39m\u001b[38;5;241m.\u001b[39mme_opened \u001b[38;5;241m=\u001b[39m \u001b[38;5;28;01mTrue\u001b[39;00m\n",
      "\u001b[0;31mFileNotFoundError\u001b[0m: [Errno 2] No such file or directory: '/mnt/uni/data/xderes/bootstrap/922854/tracts/CST_right.tck'"
     ]
    }
   ],
   "source": [
    "inval = s.load(path_ref)\n",
    "vertices = np.ones((np.concatenate(inval.streamlines).shape[0], 4))\n",
    "vertices[:, :3] = np.concatenate(inval.streamlines)"
   ]
  },
  {
   "cell_type": "code",
   "execution_count": 9,
   "id": "e4baf763-7389-49b7-bd75-55231c3f930f",
   "metadata": {},
   "outputs": [
    {
     "ename": "NameError",
     "evalue": "name 'vertices' is not defined",
     "output_type": "error",
     "traceback": [
      "\u001b[0;31m---------------------------------------------------------------------------\u001b[0m",
      "\u001b[0;31mNameError\u001b[0m                                 Traceback (most recent call last)",
      "Input \u001b[0;32mIn [9]\u001b[0m, in \u001b[0;36m<cell line: 3>\u001b[0;34m()\u001b[0m\n\u001b[1;32m      1\u001b[0m ret_val \u001b[38;5;241m=\u001b[39m []\n\u001b[1;32m      2\u001b[0m y\u001b[38;5;241m=\u001b[39mnp\u001b[38;5;241m.\u001b[39mzeros((\u001b[38;5;241m8\u001b[39m,))\n\u001b[0;32m----> 3\u001b[0m \u001b[38;5;28;01mfor\u001b[39;00m i \u001b[38;5;129;01min\u001b[39;00m \u001b[38;5;28mrange\u001b[39m(\u001b[43mvertices\u001b[49m\u001b[38;5;241m.\u001b[39mshape[\u001b[38;5;241m0\u001b[39m]): \n\u001b[1;32m      5\u001b[0m     index_coor \u001b[38;5;241m=\u001b[39m trafo \u001b[38;5;241m@\u001b[39m vertices[i]\n\u001b[1;32m      6\u001b[0m   \u001b[38;5;66;03m#  print(index_coor)\u001b[39;00m\n",
      "\u001b[0;31mNameError\u001b[0m: name 'vertices' is not defined"
     ]
    }
   ],
   "source": [
    "ret_val = []\n",
    "y=np.zeros((8,))\n",
    "for i in range(vertices.shape[0]): \n",
    "    \n",
    "    index_coor = trafo @ vertices[i]\n",
    "  #  print(index_coor)\n",
    "    ret_val.append(linear(index_coor, y, fa_map))\n",
    "\n",
    "print(np.mean(ret_val))"
   ]
  },
  {
   "cell_type": "code",
   "execution_count": 10,
   "id": "83398bf6-3e0a-4a44-bd73-963e580d6d1e",
   "metadata": {},
   "outputs": [
    {
     "ename": "FileNotFoundError",
     "evalue": "[Errno 2] No such file or directory: '/mnt/uni/data/xderes/bootstrap/922854/output/922854-CST_right-rank-3-Trilinear_0.ply'",
     "output_type": "error",
     "traceback": [
      "\u001b[0;31m---------------------------------------------------------------------------\u001b[0m",
      "\u001b[0;31mFileNotFoundError\u001b[0m                         Traceback (most recent call last)",
      "Input \u001b[0;32mIn [10]\u001b[0m, in \u001b[0;36m<cell line: 1>\u001b[0;34m()\u001b[0m\n\u001b[0;32m----> 1\u001b[0m \u001b[38;5;28;01mwith\u001b[39;00m \u001b[38;5;28;43mopen\u001b[39;49m\u001b[43m(\u001b[49m\u001b[43mpath_rank\u001b[49m\u001b[43m,\u001b[49m\u001b[43m \u001b[49m\u001b[38;5;124;43m'\u001b[39;49m\u001b[38;5;124;43mrb\u001b[39;49m\u001b[38;5;124;43m'\u001b[39;49m\u001b[43m)\u001b[49m \u001b[38;5;28;01mas\u001b[39;00m f:\n\u001b[1;32m      2\u001b[0m     plydata \u001b[38;5;241m=\u001b[39m PlyData\u001b[38;5;241m.\u001b[39mread(f)\n\u001b[1;32m      4\u001b[0m     num_verts \u001b[38;5;241m=\u001b[39m plydata[\u001b[38;5;124m'\u001b[39m\u001b[38;5;124mvertices\u001b[39m\u001b[38;5;124m'\u001b[39m]\u001b[38;5;241m.\u001b[39mcount\n",
      "\u001b[0;31mFileNotFoundError\u001b[0m: [Errno 2] No such file or directory: '/mnt/uni/data/xderes/bootstrap/922854/output/922854-CST_right-rank-3-Trilinear_0.ply'"
     ]
    }
   ],
   "source": [
    "with open(path_rank, 'rb') as f:\n",
    "    plydata = PlyData.read(f)\n",
    "\n",
    "    num_verts = plydata['vertices'].count\n",
    "    num_fiber = plydata['fiber'].count\n",
    "    vertices = np.ones(shape=[num_verts, 4], dtype=np.float64)\n",
    "    endindex = np.zeros(shape=[num_fiber], dtype=np.float64)\n",
    "    vertices[:, 0] = plydata['vertices'].data['x']\n",
    "    vertices[:, 1] = plydata['vertices'].data['y']\n",
    "    vertices[:, 2] = plydata['vertices'].data['z']\n",
    "    endindex[:] = plydata['fiber'].data['endindex']"
   ]
  },
  {
   "cell_type": "code",
   "execution_count": 11,
   "id": "f5608715-0981-4960-9d63-8d9bdf99bc35",
   "metadata": {},
   "outputs": [
    {
     "ename": "NameError",
     "evalue": "name 'num_verts' is not defined",
     "output_type": "error",
     "traceback": [
      "\u001b[0;31m---------------------------------------------------------------------------\u001b[0m",
      "\u001b[0;31mNameError\u001b[0m                                 Traceback (most recent call last)",
      "Input \u001b[0;32mIn [11]\u001b[0m, in \u001b[0;36m<cell line: 3>\u001b[0;34m()\u001b[0m\n\u001b[1;32m      1\u001b[0m ret_val \u001b[38;5;241m=\u001b[39m []\n\u001b[1;32m      2\u001b[0m y\u001b[38;5;241m=\u001b[39mnp\u001b[38;5;241m.\u001b[39mzeros((\u001b[38;5;241m8\u001b[39m,))\n\u001b[0;32m----> 3\u001b[0m \u001b[38;5;28;01mfor\u001b[39;00m i \u001b[38;5;129;01min\u001b[39;00m \u001b[38;5;28mrange\u001b[39m(\u001b[43mnum_verts\u001b[49m): \n\u001b[1;32m      5\u001b[0m     index_coor \u001b[38;5;241m=\u001b[39m trafo \u001b[38;5;241m@\u001b[39m vertices[i]\n\u001b[1;32m      6\u001b[0m   \u001b[38;5;66;03m#  print(index_coor)\u001b[39;00m\n",
      "\u001b[0;31mNameError\u001b[0m: name 'num_verts' is not defined"
     ]
    }
   ],
   "source": [
    "ret_val = []\n",
    "y=np.zeros((8,))\n",
    "for i in range(num_verts): \n",
    "    \n",
    "    index_coor = trafo @ vertices[i]\n",
    "  #  print(index_coor)\n",
    "    ret_val.append(linear(index_coor, y, fa_map))\n",
    "\n",
    "print(np.mean(ret_val))"
   ]
  },
  {
   "cell_type": "code",
   "execution_count": 12,
   "id": "81370bf2-64ac-49e0-9a2c-9385cd82a1a0",
   "metadata": {},
   "outputs": [],
   "source": [
    "###matching code"
   ]
  },
  {
   "cell_type": "code",
   "execution_count": 1,
   "id": "5b9d88c2-f140-491e-b91b-4471defb8e36",
   "metadata": {},
   "outputs": [],
   "source": [
    "from bonndit.tracking.interpolation import Trilinear\n",
    "from bonndit.tracking.alignedDirection import ScalarOld\n",
    "import nrrd\n",
    "import numpy as np"
   ]
  },
  {
   "cell_type": "code",
   "execution_count": 2,
   "id": "d961e85d-abfd-4bd3-a96b-1519f7bcda7b",
   "metadata": {},
   "outputs": [],
   "source": [
    "directionGetter = ScalarOld(0,1) \n",
    "vectorfield, trafo = nrrd.read('./avg-1-20.nrrd')\n",
    "trafo_data = np.zeros((4,4), dtype=np.float64)\n",
    "trafo_data[3,3] = 1\n",
    "trafo_data[:3,:3] = trafo['space directions'][2:]\n",
    "tracking_parameters = {\n",
    "\t\t'trafo_data': trafo_data,\n",
    "\t}\n",
    "my_point_index=np.array([74, 107, 72,1])\n",
    "\n"
   ]
  },
  {
   "cell_type": "code",
   "execution_count": 4,
   "id": "4451eca4-05e4-4eb5-9930-bafd3c30d768",
   "metadata": {},
   "outputs": [],
   "source": [
    "trilinear = Trilinear(np.array(vectorfield, dtype=np.float64) , np.array(vectorfield.shape[2:], dtype=np.int32), directionGetter, **tracking_parameters)"
   ]
  },
  {
   "cell_type": "code",
   "execution_count": 5,
   "id": "f7424676-a0ae-4a89-9061-15568d15b9a7",
   "metadata": {},
   "outputs": [],
   "source": [
    "wm, _ = nrrd.read('wmvolume.nrrd')"
   ]
  },
  {
   "cell_type": "code",
   "execution_count": 6,
   "id": "fc47e8d2-dc40-45dd-8fd7-99b6117d6b3a",
   "metadata": {},
   "outputs": [],
   "source": [
    "wm = np.array(np.where(wm>0.3))"
   ]
  },
  {
   "cell_type": "code",
   "execution_count": null,
   "id": "192ee8f2-1836-433a-bae5-e7899846ac15",
   "metadata": {},
   "outputs": [],
   "source": []
  },
  {
   "cell_type": "code",
   "execution_count": null,
   "id": "24ca2044-712b-496a-99d3-e3ca63bf4b55",
   "metadata": {},
   "outputs": [],
   "source": []
  },
  {
   "cell_type": "code",
   "execution_count": null,
   "id": "9aaf1e93-edca-4ab4-894b-6efe0103c93b",
   "metadata": {},
   "outputs": [],
   "source": []
  },
  {
   "cell_type": "code",
   "execution_count": null,
   "id": "0789b038-5932-448f-94b8-2bcfd750f13c",
   "metadata": {},
   "outputs": [],
   "source": []
  },
  {
   "cell_type": "code",
   "execution_count": 30,
   "id": "5e18763c-6315-45ac-b491-43efb25319fc",
   "metadata": {},
   "outputs": [
    {
     "name": "stderr",
     "output_type": "stream",
     "text": [
      "  0%|                                                                                          | 0/100 [00:00<?, ?it/s]"
     ]
    },
    {
     "name": "stdout",
     "output_type": "stream",
     "text": [
      "[1.588724331777423, 75.12787357477248, 31.586866121786848]\n"
     ]
    },
    {
     "name": "stderr",
     "output_type": "stream",
     "text": [
      "  1%|▊                                                                                 | 1/100 [00:01<01:45,  1.07s/it]"
     ]
    },
    {
     "name": "stdout",
     "output_type": "stream",
     "text": [
      "[1.266292381641095, 58.43945573551105, 6.518572059690506]\n"
     ]
    },
    {
     "name": "stderr",
     "output_type": "stream",
     "text": [
      "  2%|█▋                                                                                | 2/100 [00:02<01:48,  1.11s/it]"
     ]
    },
    {
     "name": "stdout",
     "output_type": "stream",
     "text": [
      "[0.989143861170699, 39.48223934093793, 88.17923455068046]\n"
     ]
    },
    {
     "name": "stderr",
     "output_type": "stream",
     "text": [
      "  3%|██▍                                                                               | 3/100 [00:03<01:45,  1.09s/it]"
     ]
    },
    {
     "name": "stdout",
     "output_type": "stream",
     "text": [
      "[5.512640983045357, 65.5593195663822, 77.86051183882128]\n"
     ]
    },
    {
     "name": "stderr",
     "output_type": "stream",
     "text": [
      "  4%|███▎                                                                              | 4/100 [00:04<01:43,  1.08s/it]"
     ]
    },
    {
     "name": "stdout",
     "output_type": "stream",
     "text": [
      "[0.737548940345471, 89.3430312258909, 10.859337379609466]\n"
     ]
    },
    {
     "name": "stderr",
     "output_type": "stream",
     "text": [
      "  5%|████                                                                              | 5/100 [00:05<01:42,  1.08s/it]"
     ]
    },
    {
     "name": "stdout",
     "output_type": "stream",
     "text": [
      "[0.960122711547287, 49.67010130835976, 41.37726102756782]\n"
     ]
    },
    {
     "name": "stderr",
     "output_type": "stream",
     "text": [
      "  6%|████▉                                                                             | 6/100 [00:06<01:40,  1.07s/it]"
     ]
    },
    {
     "name": "stdout",
     "output_type": "stream",
     "text": [
      "[0.7710182587810755, 56.37197445307045, 42.92510583884799]\n"
     ]
    },
    {
     "name": "stderr",
     "output_type": "stream",
     "text": [
      "  7%|█████▋                                                                            | 7/100 [00:07<01:39,  1.07s/it]"
     ]
    },
    {
     "name": "stdout",
     "output_type": "stream",
     "text": [
      "[0.4679593836666343, 52.23314615595546, 38.24263030051972]\n"
     ]
    },
    {
     "name": "stderr",
     "output_type": "stream",
     "text": [
      "  8%|██████▌                                                                           | 8/100 [00:08<01:37,  1.06s/it]"
     ]
    },
    {
     "name": "stdout",
     "output_type": "stream",
     "text": [
      "[1.0594560070905576, 68.07111872451763, 54.469867502349935]\n"
     ]
    },
    {
     "name": "stderr",
     "output_type": "stream",
     "text": [
      "  9%|███████▍                                                                          | 9/100 [00:09<01:37,  1.07s/it]"
     ]
    },
    {
     "name": "stdout",
     "output_type": "stream",
     "text": [
      "[2.013471144728812, 74.83318634147271, 40.220849029498225]\n"
     ]
    },
    {
     "name": "stderr",
     "output_type": "stream",
     "text": [
      " 10%|████████                                                                         | 10/100 [00:10<01:36,  1.07s/it]"
     ]
    },
    {
     "name": "stdout",
     "output_type": "stream",
     "text": [
      "[1.1980581138029298, 39.168202792982015, 43.64816571914495]\n"
     ]
    },
    {
     "name": "stderr",
     "output_type": "stream",
     "text": [
      " 11%|████████▉                                                                        | 11/100 [00:11<01:36,  1.08s/it]"
     ]
    },
    {
     "name": "stdout",
     "output_type": "stream",
     "text": [
      "[0.4369553790834705, 57.192228941485915, 69.11962054804764]\n"
     ]
    },
    {
     "name": "stderr",
     "output_type": "stream",
     "text": [
      " 12%|█████████▋                                                                       | 12/100 [00:12<01:36,  1.09s/it]"
     ]
    },
    {
     "name": "stdout",
     "output_type": "stream",
     "text": [
      "[1.350261072843242, 77.70882636465325, 83.55961373945505]\n"
     ]
    },
    {
     "name": "stderr",
     "output_type": "stream",
     "text": [
      " 13%|██████████▌                                                                      | 13/100 [00:14<01:34,  1.09s/it]"
     ]
    },
    {
     "name": "stdout",
     "output_type": "stream",
     "text": [
      "[0.5292498697755437, 47.11187372830246, 84.92684976574125]\n"
     ]
    },
    {
     "name": "stderr",
     "output_type": "stream",
     "text": [
      " 14%|███████████▎                                                                     | 14/100 [00:15<01:34,  1.10s/it]"
     ]
    },
    {
     "name": "stdout",
     "output_type": "stream",
     "text": [
      "[3.8412236217864004, 68.6244546857537, 47.19562656235519]\n"
     ]
    },
    {
     "name": "stderr",
     "output_type": "stream",
     "text": [
      " 15%|████████████▏                                                                    | 15/100 [00:16<01:34,  1.11s/it]"
     ]
    },
    {
     "name": "stdout",
     "output_type": "stream",
     "text": [
      "[0.48196481894961213, 10.655584089938156, 7.239496854579608]\n"
     ]
    },
    {
     "name": "stderr",
     "output_type": "stream",
     "text": [
      " 16%|████████████▉                                                                    | 16/100 [00:17<01:32,  1.10s/it]"
     ]
    },
    {
     "name": "stdout",
     "output_type": "stream",
     "text": [
      "[5.922372845498873, 60.36696162944842, 36.22637241531948]\n"
     ]
    },
    {
     "name": "stderr",
     "output_type": "stream",
     "text": [
      " 17%|█████████████▊                                                                   | 17/100 [00:18<01:31,  1.10s/it]"
     ]
    },
    {
     "name": "stdout",
     "output_type": "stream",
     "text": [
      "[0.44750015444490215, 37.09314875845528, 21.754479323123984]\n"
     ]
    },
    {
     "name": "stderr",
     "output_type": "stream",
     "text": [
      " 18%|██████████████▌                                                                  | 18/100 [00:19<01:30,  1.10s/it]"
     ]
    },
    {
     "name": "stdout",
     "output_type": "stream",
     "text": [
      "[1.0366163300621902, 54.55541596939456, 14.682976532946206]\n"
     ]
    },
    {
     "name": "stderr",
     "output_type": "stream",
     "text": [
      " 19%|███████████████▍                                                                 | 19/100 [00:20<01:29,  1.10s/it]"
     ]
    },
    {
     "name": "stdout",
     "output_type": "stream",
     "text": [
      "[0.8882227939404843, 28.86176003863929, 19.910838548734606]\n"
     ]
    },
    {
     "name": "stderr",
     "output_type": "stream",
     "text": [
      " 20%|████████████████▏                                                                | 20/100 [00:21<01:28,  1.10s/it]"
     ]
    },
    {
     "name": "stdout",
     "output_type": "stream",
     "text": [
      "[4.390928151402676, 39.69915043634918, 38.04130186752209]\n"
     ]
    },
    {
     "name": "stderr",
     "output_type": "stream",
     "text": [
      " 21%|█████████████████                                                                | 21/100 [00:22<01:27,  1.10s/it]"
     ]
    },
    {
     "name": "stdout",
     "output_type": "stream",
     "text": [
      "[0.8359867290767805, 58.84976794154183, 72.92496492582947]\n"
     ]
    },
    {
     "name": "stderr",
     "output_type": "stream",
     "text": [
      " 22%|█████████████████▊                                                               | 22/100 [00:24<01:25,  1.10s/it]"
     ]
    },
    {
     "name": "stdout",
     "output_type": "stream",
     "text": [
      "[6.929702802352404, 37.02808786161373, 51.07224211909916]\n"
     ]
    },
    {
     "name": "stderr",
     "output_type": "stream",
     "text": [
      " 23%|██████████████████▋                                                              | 23/100 [00:25<01:25,  1.11s/it]"
     ]
    },
    {
     "name": "stdout",
     "output_type": "stream",
     "text": [
      "[1.3957701399773659, 53.250979257129124, 34.19690752678667]\n"
     ]
    },
    {
     "name": "stderr",
     "output_type": "stream",
     "text": [
      " 24%|███████████████████▍                                                             | 24/100 [00:26<01:24,  1.11s/it]"
     ]
    },
    {
     "name": "stdout",
     "output_type": "stream",
     "text": [
      "[1.272457839303482, 52.376094414601695, 58.55068013451362]\n"
     ]
    },
    {
     "name": "stderr",
     "output_type": "stream",
     "text": [
      " 25%|████████████████████▎                                                            | 25/100 [00:27<01:22,  1.10s/it]"
     ]
    },
    {
     "name": "stdout",
     "output_type": "stream",
     "text": [
      "[1.7205011755761066, 66.17550519211144, 41.242629623187185]\n"
     ]
    },
    {
     "name": "stderr",
     "output_type": "stream",
     "text": [
      " 26%|█████████████████████                                                            | 26/100 [00:28<01:21,  1.10s/it]"
     ]
    },
    {
     "name": "stdout",
     "output_type": "stream",
     "text": [
      "[0.2951092059157149, 56.272398970687846, 45.353753678432774]\n"
     ]
    },
    {
     "name": "stderr",
     "output_type": "stream",
     "text": [
      " 27%|█████████████████████▊                                                           | 27/100 [00:29<01:20,  1.11s/it]"
     ]
    },
    {
     "name": "stdout",
     "output_type": "stream",
     "text": [
      "[5.337007310208295, 29.778349008494935, 79.6380529823573]\n"
     ]
    },
    {
     "name": "stderr",
     "output_type": "stream",
     "text": [
      " 28%|██████████████████████▋                                                          | 28/100 [00:30<01:20,  1.12s/it]"
     ]
    },
    {
     "name": "stdout",
     "output_type": "stream",
     "text": [
      "[5.611903529814115, 59.39014307993122, 51.58220746371333]\n"
     ]
    },
    {
     "name": "stderr",
     "output_type": "stream",
     "text": [
      " 29%|███████████████████████▍                                                         | 29/100 [00:31<01:19,  1.12s/it]"
     ]
    },
    {
     "name": "stdout",
     "output_type": "stream",
     "text": [
      "[0.6629174800630243, 51.66308212685222, 51.41754455563717]\n"
     ]
    },
    {
     "name": "stderr",
     "output_type": "stream",
     "text": [
      " 30%|████████████████████████▎                                                        | 30/100 [00:32<01:18,  1.12s/it]"
     ]
    },
    {
     "name": "stdout",
     "output_type": "stream",
     "text": [
      "[0.6063334428462439, 69.42468372573745, 56.595820613707986]\n"
     ]
    },
    {
     "name": "stderr",
     "output_type": "stream",
     "text": [
      " 31%|█████████████████████████                                                        | 31/100 [00:34<01:19,  1.15s/it]"
     ]
    },
    {
     "name": "stdout",
     "output_type": "stream",
     "text": [
      "[1.7188528136632117, 20.0932438500931, 10.615895681413708]\n"
     ]
    },
    {
     "name": "stderr",
     "output_type": "stream",
     "text": [
      " 32%|█████████████████████████▉                                                       | 32/100 [00:35<01:16,  1.13s/it]"
     ]
    },
    {
     "name": "stdout",
     "output_type": "stream",
     "text": [
      "[7.206970326018558, 77.5754505046546, 34.90632994629439]\n"
     ]
    },
    {
     "name": "stderr",
     "output_type": "stream",
     "text": [
      " 33%|██████████████████████████▋                                                      | 33/100 [00:36<01:14,  1.12s/it]"
     ]
    },
    {
     "name": "stdout",
     "output_type": "stream",
     "text": [
      "[0.6069746291057562, 30.08459278354732, 8.91735154272337]\n"
     ]
    },
    {
     "name": "stderr",
     "output_type": "stream",
     "text": [
      " 34%|███████████████████████████▌                                                     | 34/100 [00:37<01:12,  1.10s/it]"
     ]
    },
    {
     "name": "stdout",
     "output_type": "stream",
     "text": [
      "[0.9901476327145605, 36.56856002882622, 40.571477445704375]\n"
     ]
    },
    {
     "name": "stderr",
     "output_type": "stream",
     "text": [
      " 35%|████████████████████████████▎                                                    | 35/100 [00:38<01:12,  1.12s/it]"
     ]
    },
    {
     "name": "stdout",
     "output_type": "stream",
     "text": [
      "[17.359711907605703, 73.03266764822872, 40.00942756771132]\n"
     ]
    },
    {
     "name": "stderr",
     "output_type": "stream",
     "text": [
      " 36%|█████████████████████████████▏                                                   | 36/100 [00:39<01:10,  1.11s/it]"
     ]
    },
    {
     "name": "stdout",
     "output_type": "stream",
     "text": [
      "[1.0377107238577779, 16.01708262298272, 39.43463835160128]\n"
     ]
    },
    {
     "name": "stderr",
     "output_type": "stream",
     "text": [
      " 37%|█████████████████████████████▉                                                   | 37/100 [00:40<01:09,  1.10s/it]"
     ]
    },
    {
     "name": "stdout",
     "output_type": "stream",
     "text": [
      "[0.4802743522880003, 84.35812445196959, 57.970636891873156]\n"
     ]
    },
    {
     "name": "stderr",
     "output_type": "stream",
     "text": [
      " 38%|██████████████████████████████▊                                                  | 38/100 [00:41<01:07,  1.10s/it]"
     ]
    },
    {
     "name": "stdout",
     "output_type": "stream",
     "text": [
      "[3.240309555311812, 87.9804713301787, 58.16222945875965]\n"
     ]
    },
    {
     "name": "stderr",
     "output_type": "stream",
     "text": [
      " 39%|███████████████████████████████▌                                                 | 39/100 [00:42<01:06,  1.10s/it]"
     ]
    },
    {
     "name": "stdout",
     "output_type": "stream",
     "text": [
      "[1.2928048028584869, 66.03913425090474, 27.324977698774635]\n"
     ]
    },
    {
     "name": "stderr",
     "output_type": "stream",
     "text": [
      " 40%|████████████████████████████████▍                                                | 40/100 [00:43<01:05,  1.09s/it]"
     ]
    },
    {
     "name": "stdout",
     "output_type": "stream",
     "text": [
      "[0.4510056881850213, 42.11050144832354, 57.00903873120228]\n"
     ]
    },
    {
     "name": "stderr",
     "output_type": "stream",
     "text": [
      " 41%|█████████████████████████████████▏                                               | 41/100 [00:45<01:04,  1.09s/it]"
     ]
    },
    {
     "name": "stdout",
     "output_type": "stream",
     "text": [
      "[0.6782185522014961, 51.08467958353652, 37.509580779355275]\n"
     ]
    },
    {
     "name": "stderr",
     "output_type": "stream",
     "text": [
      " 42%|██████████████████████████████████                                               | 42/100 [00:46<01:03,  1.09s/it]"
     ]
    },
    {
     "name": "stdout",
     "output_type": "stream",
     "text": [
      "[0.31386428360446716, 70.18718382072663, 86.249937527271]\n"
     ]
    },
    {
     "name": "stderr",
     "output_type": "stream",
     "text": [
      " 43%|██████████████████████████████████▊                                              | 43/100 [00:47<01:01,  1.08s/it]"
     ]
    },
    {
     "name": "stdout",
     "output_type": "stream",
     "text": [
      "[0.8999095366838489, 65.48241054894561, 22.075836481569]\n"
     ]
    },
    {
     "name": "stderr",
     "output_type": "stream",
     "text": [
      " 44%|███████████████████████████████████▋                                             | 44/100 [00:48<01:00,  1.09s/it]"
     ]
    },
    {
     "name": "stdout",
     "output_type": "stream",
     "text": [
      "[3.83010623144103, 49.497167701809374, 68.48224632553634]\n"
     ]
    },
    {
     "name": "stderr",
     "output_type": "stream",
     "text": [
      " 45%|████████████████████████████████████▍                                            | 45/100 [00:49<01:00,  1.09s/it]"
     ]
    },
    {
     "name": "stdout",
     "output_type": "stream",
     "text": [
      "[1.167150082921645, 81.75925594680601, 86.5096873602574]\n"
     ]
    },
    {
     "name": "stderr",
     "output_type": "stream",
     "text": [
      " 46%|█████████████████████████████████████▎                                           | 46/100 [00:50<00:58,  1.09s/it]"
     ]
    },
    {
     "name": "stdout",
     "output_type": "stream",
     "text": [
      "[0.04798350289702168, 57.801680608560126, 29.369287817350497]\n"
     ]
    },
    {
     "name": "stderr",
     "output_type": "stream",
     "text": [
      " 47%|██████████████████████████████████████                                           | 47/100 [00:51<00:57,  1.08s/it]"
     ]
    },
    {
     "name": "stdout",
     "output_type": "stream",
     "text": [
      "[7.335272739212152, 63.57842953844786, 49.235150812558096]\n"
     ]
    },
    {
     "name": "stderr",
     "output_type": "stream",
     "text": [
      " 48%|██████████████████████████████████████▉                                          | 48/100 [00:52<00:56,  1.08s/it]"
     ]
    },
    {
     "name": "stdout",
     "output_type": "stream",
     "text": [
      "[0.7311117271636312, 36.71556987376283, 6.189174265415856]\n"
     ]
    },
    {
     "name": "stderr",
     "output_type": "stream",
     "text": [
      " 49%|███████████████████████████████████████▋                                         | 49/100 [00:53<00:55,  1.08s/it]"
     ]
    },
    {
     "name": "stdout",
     "output_type": "stream",
     "text": [
      "[8.199524658398074, 74.443147673839, 25.374717373961985]\n"
     ]
    },
    {
     "name": "stderr",
     "output_type": "stream",
     "text": [
      " 50%|████████████████████████████████████████▌                                        | 50/100 [00:54<00:53,  1.08s/it]"
     ]
    },
    {
     "name": "stdout",
     "output_type": "stream",
     "text": [
      "[1.206630158600394, 64.09982712982193, 35.167477625469516]\n"
     ]
    },
    {
     "name": "stderr",
     "output_type": "stream",
     "text": [
      " 51%|█████████████████████████████████████████▎                                       | 51/100 [00:55<00:52,  1.08s/it]"
     ]
    },
    {
     "name": "stdout",
     "output_type": "stream",
     "text": [
      "[0.27149734968105654, 63.97684581019256, 27.8520531984212]\n"
     ]
    },
    {
     "name": "stderr",
     "output_type": "stream",
     "text": [
      " 52%|██████████████████████████████████████████                                       | 52/100 [00:56<00:51,  1.07s/it]"
     ]
    },
    {
     "name": "stdout",
     "output_type": "stream",
     "text": [
      "[1.4406531870465127, 52.84535680066549, 44.72354965790117]\n"
     ]
    },
    {
     "name": "stderr",
     "output_type": "stream",
     "text": [
      " 53%|██████████████████████████████████████████▉                                      | 53/100 [00:58<00:50,  1.07s/it]"
     ]
    },
    {
     "name": "stdout",
     "output_type": "stream",
     "text": [
      "[0.8150154529322089, 59.698165674240556, 86.76662018608127]\n"
     ]
    },
    {
     "name": "stderr",
     "output_type": "stream",
     "text": [
      " 54%|███████████████████████████████████████████▋                                     | 54/100 [00:59<00:49,  1.08s/it]"
     ]
    },
    {
     "name": "stdout",
     "output_type": "stream",
     "text": [
      "[1.2390904641800862, 89.38674821654293, 75.65263327169465]\n"
     ]
    },
    {
     "name": "stderr",
     "output_type": "stream",
     "text": [
      " 55%|████████████████████████████████████████████▌                                    | 55/100 [01:00<00:48,  1.08s/it]"
     ]
    },
    {
     "name": "stdout",
     "output_type": "stream",
     "text": [
      "[0.27464830470138457, 54.70187850708918, 41.629108394249045]\n"
     ]
    },
    {
     "name": "stderr",
     "output_type": "stream",
     "text": [
      " 56%|█████████████████████████████████████████████▎                                   | 56/100 [01:01<00:47,  1.08s/it]"
     ]
    },
    {
     "name": "stdout",
     "output_type": "stream",
     "text": [
      "[0.2528725167273968, 36.78301065642668, 51.06483692561582]\n"
     ]
    },
    {
     "name": "stderr",
     "output_type": "stream",
     "text": [
      " 57%|██████████████████████████████████████████████▏                                  | 57/100 [01:02<00:46,  1.08s/it]"
     ]
    },
    {
     "name": "stdout",
     "output_type": "stream",
     "text": [
      "[6.81602069453198, 73.54435653968979, 30.32255333812614]\n"
     ]
    },
    {
     "name": "stderr",
     "output_type": "stream",
     "text": [
      " 58%|██████████████████████████████████████████████▉                                  | 58/100 [01:03<00:45,  1.08s/it]"
     ]
    },
    {
     "name": "stdout",
     "output_type": "stream",
     "text": [
      "[0.689887647091276, 60.268455070835245, 37.8691384031483]\n"
     ]
    },
    {
     "name": "stderr",
     "output_type": "stream",
     "text": [
      " 59%|███████████████████████████████████████████████▊                                 | 59/100 [01:04<00:44,  1.08s/it]"
     ]
    },
    {
     "name": "stdout",
     "output_type": "stream",
     "text": [
      "[1.2590503512572262, 75.91589160700414, 47.02933147421905]\n"
     ]
    },
    {
     "name": "stderr",
     "output_type": "stream",
     "text": [
      " 60%|████████████████████████████████████████████████▌                                | 60/100 [01:05<00:43,  1.08s/it]"
     ]
    },
    {
     "name": "stdout",
     "output_type": "stream",
     "text": [
      "[0.4912393068605791, 43.80584503010967, 6.5061920026254505]\n"
     ]
    },
    {
     "name": "stderr",
     "output_type": "stream",
     "text": [
      " 61%|█████████████████████████████████████████████████▍                               | 61/100 [01:06<00:41,  1.07s/it]"
     ]
    },
    {
     "name": "stdout",
     "output_type": "stream",
     "text": [
      "[1.506556453427333, 70.8861494283715, 54.02538662124831]\n"
     ]
    },
    {
     "name": "stderr",
     "output_type": "stream",
     "text": [
      " 62%|██████████████████████████████████████████████████▏                              | 62/100 [01:07<00:40,  1.07s/it]"
     ]
    },
    {
     "name": "stdout",
     "output_type": "stream",
     "text": [
      "[1.4326692877709681, 15.429468487620264, 2.6541612650323216]\n"
     ]
    },
    {
     "name": "stderr",
     "output_type": "stream",
     "text": [
      " 63%|███████████████████████████████████████████████████                              | 63/100 [01:08<00:39,  1.07s/it]"
     ]
    },
    {
     "name": "stdout",
     "output_type": "stream",
     "text": [
      "[0.9167742139805637, 53.48845201568251, 60.54610752536013]\n"
     ]
    },
    {
     "name": "stderr",
     "output_type": "stream",
     "text": [
      " 64%|███████████████████████████████████████████████████▊                             | 64/100 [01:09<00:38,  1.07s/it]"
     ]
    },
    {
     "name": "stdout",
     "output_type": "stream",
     "text": [
      "[16.884569020836693, 73.71885376148762, 51.882090483043676]\n"
     ]
    },
    {
     "name": "stderr",
     "output_type": "stream",
     "text": [
      " 65%|████████████████████████████████████████████████████▋                            | 65/100 [01:10<00:37,  1.07s/it]"
     ]
    },
    {
     "name": "stdout",
     "output_type": "stream",
     "text": [
      "[0.29872747162089847, 60.769201043310375, 49.138081685351004]\n"
     ]
    },
    {
     "name": "stderr",
     "output_type": "stream",
     "text": [
      " 66%|█████████████████████████████████████████████████████▍                           | 66/100 [01:11<00:36,  1.07s/it]"
     ]
    },
    {
     "name": "stdout",
     "output_type": "stream",
     "text": [
      "[0.34502775443490413, 63.16717305278037, 35.09756094219016]\n"
     ]
    },
    {
     "name": "stderr",
     "output_type": "stream",
     "text": [
      " 67%|██████████████████████████████████████████████████████▎                          | 67/100 [01:13<00:35,  1.07s/it]"
     ]
    },
    {
     "name": "stdout",
     "output_type": "stream",
     "text": [
      "[0.9450308996362521, 68.74902044383781, 64.24402965372809]\n"
     ]
    },
    {
     "name": "stderr",
     "output_type": "stream",
     "text": [
      " 68%|███████████████████████████████████████████████████████                          | 68/100 [01:14<00:34,  1.07s/it]"
     ]
    },
    {
     "name": "stdout",
     "output_type": "stream",
     "text": [
      "[1.1075182394579297, 61.32867748161381, 52.20590056189599]\n"
     ]
    },
    {
     "name": "stderr",
     "output_type": "stream",
     "text": [
      " 69%|███████████████████████████████████████████████████████▉                         | 69/100 [01:15<00:33,  1.07s/it]"
     ]
    },
    {
     "name": "stdout",
     "output_type": "stream",
     "text": [
      "[0.585671678791, 69.05924075757405, 50.431380677414204]\n"
     ]
    },
    {
     "name": "stderr",
     "output_type": "stream",
     "text": [
      " 70%|████████████████████████████████████████████████████████▋                        | 70/100 [01:16<00:31,  1.07s/it]"
     ]
    },
    {
     "name": "stdout",
     "output_type": "stream",
     "text": [
      "[6.866076359023727, 40.11913081890795, 55.04496545057039]\n"
     ]
    },
    {
     "name": "stderr",
     "output_type": "stream",
     "text": [
      " 71%|█████████████████████████████████████████████████████████▌                       | 71/100 [01:17<00:30,  1.06s/it]"
     ]
    },
    {
     "name": "stdout",
     "output_type": "stream",
     "text": [
      "[0.6101569719966408, 28.545755851453844, 21.830193842017092]\n"
     ]
    },
    {
     "name": "stderr",
     "output_type": "stream",
     "text": [
      " 72%|██████████████████████████████████████████████████████████▎                      | 72/100 [01:18<00:29,  1.07s/it]"
     ]
    },
    {
     "name": "stdout",
     "output_type": "stream",
     "text": [
      "[1.091489472354984, 21.089031507356573, 34.636162899348]\n"
     ]
    },
    {
     "name": "stderr",
     "output_type": "stream",
     "text": [
      " 73%|███████████████████████████████████████████████████████████▏                     | 73/100 [01:19<00:28,  1.07s/it]"
     ]
    },
    {
     "name": "stdout",
     "output_type": "stream",
     "text": [
      "[1.320053202218123, 23.557436057205642, 57.5589070406619]\n"
     ]
    },
    {
     "name": "stderr",
     "output_type": "stream",
     "text": [
      " 74%|███████████████████████████████████████████████████████████▉                     | 74/100 [01:20<00:27,  1.06s/it]"
     ]
    },
    {
     "name": "stdout",
     "output_type": "stream",
     "text": [
      "[1.5064515391637847, 41.10676723690697, 16.96168763979073]\n"
     ]
    },
    {
     "name": "stderr",
     "output_type": "stream",
     "text": [
      " 75%|████████████████████████████████████████████████████████████▊                    | 75/100 [01:21<00:26,  1.07s/it]"
     ]
    },
    {
     "name": "stdout",
     "output_type": "stream",
     "text": [
      "[1.1880508181149692, 60.66494593354622, 74.55646882809097]\n"
     ]
    },
    {
     "name": "stderr",
     "output_type": "stream",
     "text": [
      " 76%|█████████████████████████████████████████████████████████████▌                   | 76/100 [01:22<00:25,  1.06s/it]"
     ]
    },
    {
     "name": "stdout",
     "output_type": "stream",
     "text": [
      "[2.154227494704956, 40.05709836986588, 35.01497239542468]\n"
     ]
    },
    {
     "name": "stderr",
     "output_type": "stream",
     "text": [
      " 77%|██████████████████████████████████████████████████████████████▎                  | 77/100 [01:23<00:24,  1.06s/it]"
     ]
    },
    {
     "name": "stdout",
     "output_type": "stream",
     "text": [
      "[0.9077930529822559, 27.795205329032694, 14.136092920436273]\n"
     ]
    },
    {
     "name": "stderr",
     "output_type": "stream",
     "text": [
      " 78%|███████████████████████████████████████████████████████████████▏                 | 78/100 [01:24<00:23,  1.07s/it]"
     ]
    },
    {
     "name": "stdout",
     "output_type": "stream",
     "text": [
      "[2.0717839388686135, 54.023721173676186, 64.51000462479975]\n"
     ]
    },
    {
     "name": "stderr",
     "output_type": "stream",
     "text": [
      " 79%|███████████████████████████████████████████████████████████████▉                 | 79/100 [01:25<00:22,  1.06s/it]"
     ]
    },
    {
     "name": "stdout",
     "output_type": "stream",
     "text": [
      "[0.57730694587791, 69.14081626864528, 43.299632652426936]\n"
     ]
    },
    {
     "name": "stderr",
     "output_type": "stream",
     "text": [
      " 80%|████████████████████████████████████████████████████████████████▊                | 80/100 [01:26<00:21,  1.06s/it]"
     ]
    },
    {
     "name": "stdout",
     "output_type": "stream",
     "text": [
      "[1.2453584857757969, 28.667497041769384, 58.843949655324856]\n"
     ]
    },
    {
     "name": "stderr",
     "output_type": "stream",
     "text": [
      " 81%|█████████████████████████████████████████████████████████████████▌               | 81/100 [01:27<00:20,  1.07s/it]"
     ]
    },
    {
     "name": "stdout",
     "output_type": "stream",
     "text": [
      "[0.5176701349245472, 88.58120320620385, 89.3039656045839]\n"
     ]
    },
    {
     "name": "stderr",
     "output_type": "stream",
     "text": [
      " 82%|██████████████████████████████████████████████████████████████████▍              | 82/100 [01:28<00:19,  1.06s/it]"
     ]
    },
    {
     "name": "stdout",
     "output_type": "stream",
     "text": [
      "[0.7943616619550606, 82.65485024063979, 52.76016281706777]\n"
     ]
    },
    {
     "name": "stderr",
     "output_type": "stream",
     "text": [
      " 83%|███████████████████████████████████████████████████████████████████▏             | 83/100 [01:30<00:18,  1.06s/it]"
     ]
    },
    {
     "name": "stdout",
     "output_type": "stream",
     "text": [
      "[0.8013858156811432, 65.24857049872082, 38.796038478313974]\n"
     ]
    },
    {
     "name": "stderr",
     "output_type": "stream",
     "text": [
      " 84%|████████████████████████████████████████████████████████████████████             | 84/100 [01:31<00:17,  1.07s/it]"
     ]
    },
    {
     "name": "stdout",
     "output_type": "stream",
     "text": [
      "[0.3519314717161834, 71.5059120351507, 33.604050272743976]\n"
     ]
    },
    {
     "name": "stderr",
     "output_type": "stream",
     "text": [
      " 85%|████████████████████████████████████████████████████████████████████▊            | 85/100 [01:32<00:15,  1.07s/it]"
     ]
    },
    {
     "name": "stdout",
     "output_type": "stream",
     "text": [
      "[6.1915216681665095, 37.802687604396816, 22.452033583739468]\n"
     ]
    },
    {
     "name": "stderr",
     "output_type": "stream",
     "text": [
      " 86%|█████████████████████████████████████████████████████████████████████▋           | 86/100 [01:33<00:14,  1.07s/it]"
     ]
    },
    {
     "name": "stdout",
     "output_type": "stream",
     "text": [
      "[1.4288950516329797, 70.31847951761857, 50.789756040616076]\n"
     ]
    },
    {
     "name": "stderr",
     "output_type": "stream",
     "text": [
      " 87%|██████████████████████████████████████████████████████████████████████▍          | 87/100 [01:34<00:13,  1.07s/it]"
     ]
    },
    {
     "name": "stdout",
     "output_type": "stream",
     "text": [
      "[0.930400722008074, 17.039791240045048, 26.673056264801236]\n"
     ]
    },
    {
     "name": "stderr",
     "output_type": "stream",
     "text": [
      " 88%|███████████████████████████████████████████████████████████████████████▎         | 88/100 [01:35<00:12,  1.07s/it]"
     ]
    },
    {
     "name": "stdout",
     "output_type": "stream",
     "text": [
      "[6.370456321685414, 49.72016465393001, 42.83644454640802]\n"
     ]
    },
    {
     "name": "stderr",
     "output_type": "stream",
     "text": [
      " 89%|████████████████████████████████████████████████████████████████████████         | 89/100 [01:36<00:11,  1.06s/it]"
     ]
    },
    {
     "name": "stdout",
     "output_type": "stream",
     "text": [
      "[4.435381938937695, 36.509636496518524, 63.16599206845741]\n"
     ]
    },
    {
     "name": "stderr",
     "output_type": "stream",
     "text": [
      " 90%|████████████████████████████████████████████████████████████████████████▉        | 90/100 [01:37<00:10,  1.07s/it]"
     ]
    },
    {
     "name": "stdout",
     "output_type": "stream",
     "text": [
      "[1.1633725945111486, 27.6984176884374, 29.292562734573014]\n"
     ]
    },
    {
     "name": "stderr",
     "output_type": "stream",
     "text": [
      " 91%|█████████████████████████████████████████████████████████████████████████▋       | 91/100 [01:38<00:09,  1.06s/it]"
     ]
    },
    {
     "name": "stdout",
     "output_type": "stream",
     "text": [
      "[1.0200060410100111, 57.49344744295944, 40.8394327964638]\n"
     ]
    },
    {
     "name": "stderr",
     "output_type": "stream",
     "text": [
      " 92%|██████████████████████████████████████████████████████████████████████████▌      | 92/100 [01:39<00:08,  1.06s/it]"
     ]
    },
    {
     "name": "stdout",
     "output_type": "stream",
     "text": [
      "[1.291146623085573, 34.531736689828136, 55.12699823429371]\n"
     ]
    },
    {
     "name": "stderr",
     "output_type": "stream",
     "text": [
      " 93%|███████████████████████████████████████████████████████████████████████████▎     | 93/100 [01:40<00:07,  1.07s/it]"
     ]
    },
    {
     "name": "stdout",
     "output_type": "stream",
     "text": [
      "[0.5617379613276273, 32.19726108291115, 27.483859563380673]\n"
     ]
    },
    {
     "name": "stderr",
     "output_type": "stream",
     "text": [
      " 94%|████████████████████████████████████████████████████████████████████████████▏    | 94/100 [01:41<00:06,  1.07s/it]"
     ]
    },
    {
     "name": "stdout",
     "output_type": "stream",
     "text": [
      "[1.4353022593834133, 6.493740330019105, 17.426396469287106]\n"
     ]
    },
    {
     "name": "stderr",
     "output_type": "stream",
     "text": [
      " 95%|████████████████████████████████████████████████████████████████████████████▉    | 95/100 [01:42<00:05,  1.07s/it]"
     ]
    },
    {
     "name": "stdout",
     "output_type": "stream",
     "text": [
      "[0.4000206941313029, 32.408261445086815, 27.806410458537886]\n"
     ]
    },
    {
     "name": "stderr",
     "output_type": "stream",
     "text": [
      " 96%|█████████████████████████████████████████████████████████████████████████████▊   | 96/100 [01:43<00:04,  1.07s/it]"
     ]
    },
    {
     "name": "stdout",
     "output_type": "stream",
     "text": [
      "[0.43827607732813867, 54.49300541918127, 61.59017231410328]\n"
     ]
    },
    {
     "name": "stderr",
     "output_type": "stream",
     "text": [
      " 97%|██████████████████████████████████████████████████████████████████████████████▌  | 97/100 [01:44<00:03,  1.07s/it]"
     ]
    },
    {
     "name": "stdout",
     "output_type": "stream",
     "text": [
      "[1.8908855393949566, 57.25590774800694, 83.05296739959573]\n"
     ]
    },
    {
     "name": "stderr",
     "output_type": "stream",
     "text": [
      " 98%|███████████████████████████████████████████████████████████████████████████████▍ | 98/100 [01:46<00:02,  1.07s/it]"
     ]
    },
    {
     "name": "stdout",
     "output_type": "stream",
     "text": [
      "[1.6203877527633364, 45.941266932825464, 47.98187734083646]\n"
     ]
    },
    {
     "name": "stderr",
     "output_type": "stream",
     "text": [
      " 99%|████████████████████████████████████████████████████████████████████████████████▏| 99/100 [01:47<00:01,  1.08s/it]"
     ]
    },
    {
     "name": "stdout",
     "output_type": "stream",
     "text": [
      "[0.8827192582295394, 58.29748271434014, 52.332153807318335]\n"
     ]
    },
    {
     "name": "stderr",
     "output_type": "stream",
     "text": [
      "100%|████████████████████████████████████████████████████████████████████████████████| 100/100 [01:48<00:00,  1.08s/it]\n"
     ]
    }
   ],
   "source": [
    "def orth(k):\n",
    "    x = np.random.randn(3)  # take a random vector\n",
    "    x -= x.dot(k) * k       # make it orthogonal to k\n",
    "    x /= np.linalg.norm(x)\n",
    "    y = np.cross(k, x)\n",
    "    return x,y\n",
    "\n",
    "my_angle = 0.087\n",
    "\n",
    "retval = []\n",
    "applyed_ang = []\n",
    "from tqdm import tqdm\n",
    "retval_matching = []\n",
    "#for l in range(1):\n",
    "my_ang=[]\n",
    "my_matching = []\n",
    "for j in tqdm(range(100)):\n",
    "    trilinear = Trilinear(np.array(vectorfield, dtype=np.float64) , np.array(vectorfield.shape[2:], dtype=np.int32), directionGetter, **tracking_parameters)\n",
    "    selected=np.random.choice(range(wm.shape[1]))\n",
    "    # select worst case\n",
    "    mp = wm[:,selected]\n",
    "    my_point_index=wm[:,selected] + np.array([0.5,0.5,0.5])\n",
    "    my_point  =trafo_data@np.array([*my_point_index,1])\n",
    "    trilinear.set_best_dirp(np.zeros((3,3)))\n",
    "    #print(trilinear.best_dirp())\n",
    "    trilinear.interpolate(my_point[:3], np.array([1,1,0,0], dtype=np.float64), 1)\n",
    "   # print(trilinear.best_dirp())\n",
    "   # for i in range(10):\n",
    "    vectorfield2 = np.copy(vectorfield)\n",
    "    for x in range(2):\n",
    "        for y in range(2):\n",
    "            for z in range(2):\n",
    "                for u in range(3):\n",
    "                    if np.linalg.norm(vectorfield2[1:, u,mp[0] + x,mp[1] + y,mp[2] + z]) != 0:\n",
    "                        normed_vector = vectorfield2[1:, u,mp[0] + x,mp[1] + y,mp[2] + z]/np.linalg.norm(vectorfield2[1:, u,mp[0] + x,mp[1] + y,mp[2] + z])\n",
    "                        orth1, orth2 = orth(normed_vector)\n",
    "                        # results in 10 degrees? \n",
    "                        r = np.random.uniform(0,1)\n",
    "                        sigma = np.random.uniform(0,np.pi*2)\n",
    "                        X = my_angle*r * np.cos(sigma) \n",
    "                        Y = my_angle*r * np.sin(sigma)\n",
    "                        vector = normed_vector +  X*orth1  + Y*orth2\n",
    "                        applyed_ang.append(angle_between(vector, normed_vector))\n",
    "                        vectorfield2[1:, u,mp[0] + x,mp[1] + y,mp[2] + z] = vector/np.linalg.norm(vector) \n",
    "\n",
    "    trilinear_noised = Trilinear(np.array(vectorfield2, dtype=np.float64) , np.array(vectorfield.shape[2:], dtype=np.int32), directionGetter, **tracking_parameters)\n",
    " #   print(0, trilinear.best_dirp())\n",
    "#    trilinear_noised.set_best_dirp(trilinear.best_dirp())\n",
    "    trilinear_noised.interpolate(my_point[:3], np.array([1,1,0,0], dtype=np.float64), 1)\n",
    "    print([angle_between(trilinear_noised.best_dirp()[0], trilinear.best_dirp()[i]) for i in range(3)])\n",
    "    \n",
    "    my_ang.append(min(angle_between(trilinear.best_dirp()[0], trilinear_noised.best_dirp()[0]),angle_between(trilinear.best_dirp()[0], trilinear_noised.best_dirp()[1]),angle_between(trilinear.best_dirp()[0], trilinear_noised.best_dirp()[2])))\n",
    "    my_matching.append((trilinear.cachep()[int(my_point_index[0]),int(my_point_index[1]),int(my_point_index[2]),0],trilinear_noised.cachep()[int(my_point_index[0]),int(my_point_index[1]),int(my_point_index[2]),0],trilinear.cachep()[int(my_point_index[0]),int(my_point_index[1]),int(my_point_index[2]),4],trilinear_noised.cachep()[int(my_point_index[0]),int(my_point_index[1]),int(my_point_index[2]),4],trilinear.cachep()[int(my_point_index[0]),int(my_point_index[1]),int(my_point_index[2]),8],trilinear_noised.cachep()[int(my_point_index[0]),int(my_point_index[1]),int(my_point_index[2]),8],trilinear.cachep()[int(my_point_index[0]),int(my_point_index[1]),int(my_point_index[2]),12],trilinear_noised.cachep()[int(my_point_index[0]),int(my_point_index[1]),int(my_point_index[2]),12],trilinear.cachep()[int(my_point_index[0]),int(my_point_index[1]),int(my_point_index[2]),16],trilinear_noised.cachep()[int(my_point_index[0]),int(my_point_index[1]),int(my_point_index[2]),16],trilinear.cachep()[int(my_point_index[0]),int(my_point_index[1]),int(my_point_index[2]),20],trilinear_noised.cachep()[int(my_point_index[0]),int(my_point_index[1]),int(my_point_index[2]),20],trilinear.cachep()[int(my_point_index[0]),int(my_point_index[1]),int(my_point_index[2]),24],trilinear_noised.cachep()[int(my_point_index[0]),int(my_point_index[1]),int(my_point_index[2]),24],trilinear.cachep()[int(my_point_index[0]),int(my_point_index[1]),int(my_point_index[2]),28],trilinear_noised.cachep()[int(my_point_index[0]),int(my_point_index[1]),int(my_point_index[2]),28]))\n"
   ]
  },
  {
   "cell_type": "code",
   "execution_count": 22,
   "id": "4c3d6280-57e7-45ab-a400-bcc00f43d564",
   "metadata": {},
   "outputs": [
    {
     "data": {
      "text/plain": [
       "49"
      ]
     },
     "execution_count": 22,
     "metadata": {},
     "output_type": "execute_result"
    }
   ],
   "source": [
    "x = np.array(my_matching)[:,::2]-np.array(my_matching)[:,1::2]\n",
    "x[x==-1] = 0\n",
    "x[x==1] = 0\n",
    "\n",
    "np.count_nonzero(np.linalg.norm(x, axis=-1))"
   ]
  },
  {
   "cell_type": "code",
   "execution_count": 23,
   "id": "89fb0bb1-4bab-4209-89ef-6868eda2fd41",
   "metadata": {},
   "outputs": [
    {
     "data": {
      "text/plain": [
       "array([[ 0,  0,  0,  0,  0,  0,  0,  4],\n",
       "       [ 0,  0,  0,  0,  0,  0,  0,  0],\n",
       "       [ 0,  0,  0,  0,  0,  0,  0,  0],\n",
       "       [ 0,  0,  0,  0,  0,  0,  0,  0],\n",
       "       [ 0,  0,  0,  0,  0,  0,  0,  0],\n",
       "       [ 0,  0,  0,  0,  0,  0,  0,  0],\n",
       "       [ 0,  0,  3,  0,  0,  2,  0,  4],\n",
       "       [ 0,  0,  0,  0,  0,  2,  0,  4],\n",
       "       [ 0,  0,  0,  0,  0,  0,  0,  0],\n",
       "       [ 0,  0,  3,  0,  0, -3,  0,  0],\n",
       "       [ 0,  0,  0,  0,  5,  0,  0,  0],\n",
       "       [ 0,  0,  0,  0,  0,  0,  0,  0],\n",
       "       [ 0,  0,  0,  0,  0,  0,  0,  4],\n",
       "       [ 0,  0,  0,  0,  0,  0,  0,  0],\n",
       "       [ 0,  0,  0,  0,  0,  0,  0,  2],\n",
       "       [ 0,  0,  0,  0,  0,  0,  0,  4],\n",
       "       [ 0,  0,  0,  0,  0,  0,  0,  0],\n",
       "       [ 0,  0,  0,  0,  0,  0,  0,  4],\n",
       "       [ 3,  0,  0,  0,  0,  0,  0,  0],\n",
       "       [ 0,  0,  0,  0,  0,  0,  0,  0],\n",
       "       [ 0,  0,  0,  0,  0,  0,  0,  0],\n",
       "       [ 0, -3,  0, -3,  0, -3,  0,  4],\n",
       "       [ 0,  0, -3,  0,  0,  0,  0,  4],\n",
       "       [ 0,  0,  0,  0,  0,  0,  0,  0],\n",
       "       [ 0,  0,  0,  0,  0,  0,  0,  0],\n",
       "       [ 0,  0,  0,  0,  0,  0,  0,  4],\n",
       "       [ 0,  0,  0,  0,  0,  0,  0,  0],\n",
       "       [ 0,  0,  0,  0,  0,  0,  0,  0],\n",
       "       [ 0,  0,  0,  0,  0,  0,  0,  0],\n",
       "       [ 0,  0,  0,  0,  0,  0,  0,  0],\n",
       "       [ 0,  0,  0,  0,  0,  0,  0,  2],\n",
       "       [ 0,  0,  0,  0,  0,  0,  0,  2],\n",
       "       [ 0,  0,  0,  0,  0,  0,  0,  2],\n",
       "       [ 0,  0,  0,  0,  0,  0,  0,  0],\n",
       "       [ 0,  0,  0,  0,  0,  0,  0,  0],\n",
       "       [ 0,  0,  0,  0,  0,  0,  0,  0],\n",
       "       [ 0,  0,  0,  0,  0,  0,  0,  0],\n",
       "       [ 2,  0,  0,  0,  0,  0,  0,  0],\n",
       "       [ 0,  0,  0, -3,  0,  0,  0,  2],\n",
       "       [ 0,  0,  0,  0,  4,  0,  0,  4],\n",
       "       [ 0,  0,  0,  0,  0,  0,  0,  4],\n",
       "       [ 0,  0,  0,  0,  0,  0,  0,  0],\n",
       "       [ 0,  0,  0,  0,  0,  0,  0,  0],\n",
       "       [ 0,  0,  0,  0,  0,  2,  0,  4],\n",
       "       [ 0,  0,  0,  0,  0,  0,  0,  0],\n",
       "       [ 0,  0, -2,  0,  0,  0,  0,  4],\n",
       "       [ 0,  0,  0,  0,  0,  0,  0,  0],\n",
       "       [ 0,  0,  0,  0,  0,  0, -3,  0],\n",
       "       [ 0,  0,  0,  0,  0,  0,  0,  4],\n",
       "       [ 0,  0,  0,  0,  0,  0,  0,  0],\n",
       "       [ 0,  0,  0,  0,  0,  0,  0,  0],\n",
       "       [ 0,  0,  0,  0,  0,  0,  0,  4],\n",
       "       [ 0,  0,  0,  0,  0,  0,  0,  0],\n",
       "       [ 0,  0,  0,  0,  0,  0,  0,  0],\n",
       "       [ 0,  0,  0,  0,  0,  0,  0,  0],\n",
       "       [ 0,  0,  0,  0,  0,  0,  0,  4],\n",
       "       [ 0,  0,  0,  0,  0,  0,  0,  4],\n",
       "       [ 0,  0,  0,  0,  0,  0,  0,  0],\n",
       "       [ 0,  0,  0,  0,  0,  0,  3,  4],\n",
       "       [ 0,  0,  0,  0,  0,  0,  0,  0],\n",
       "       [ 0,  0,  0,  0,  0,  0,  0,  4],\n",
       "       [ 0,  0,  0, -3,  0,  0,  0,  0],\n",
       "       [ 0,  0,  0,  0,  0,  0,  0,  0],\n",
       "       [ 0,  0,  0,  0,  0,  0,  0,  0],\n",
       "       [ 3,  4,  0,  0,  3,  4,  2,  0],\n",
       "       [ 0,  0,  0,  0,  0,  0,  0,  0],\n",
       "       [ 0,  0,  0,  0,  0,  0,  0,  2],\n",
       "       [ 0,  0,  0,  0,  0,  0,  0,  2],\n",
       "       [ 0,  0,  0,  0,  0,  0,  0,  4],\n",
       "       [ 0,  0,  0,  0,  0,  0,  0,  2],\n",
       "       [ 0,  0,  0,  0,  0,  0,  0,  0],\n",
       "       [ 0,  0,  0,  0,  0,  0,  0,  4],\n",
       "       [ 0,  0,  0,  0,  0,  0,  0,  0],\n",
       "       [ 0,  0,  0,  0,  0,  0,  0,  0],\n",
       "       [ 0,  0,  0,  0, -3, -4,  2,  4],\n",
       "       [ 0,  0,  0,  0,  0,  0,  0,  0],\n",
       "       [ 0,  0,  0,  0,  0,  0,  0,  4],\n",
       "       [ 0,  0,  0,  0,  0,  0,  0,  0],\n",
       "       [ 0,  0, -3,  0,  0,  0,  0,  4],\n",
       "       [ 0,  0,  0,  0,  0,  0,  0,  0],\n",
       "       [ 0,  2,  0, -2,  0, -2,  0,  4],\n",
       "       [ 0,  0,  0,  0,  0,  0,  0,  0],\n",
       "       [ 0,  0,  0,  0,  0,  0,  0,  0],\n",
       "       [-3,  0,  0,  0,  0,  0,  0,  4],\n",
       "       [ 0,  0,  0,  0,  0,  0,  0,  0],\n",
       "       [ 0,  0,  0,  0,  0,  0,  0,  0],\n",
       "       [ 0,  0,  0,  0,  0,  0,  0,  0],\n",
       "       [ 0,  0,  0,  0,  0,  0,  0,  0],\n",
       "       [ 0,  0, -3,  0,  0,  0,  0,  4],\n",
       "       [ 0,  0,  0,  0,  0,  0,  0,  4],\n",
       "       [ 0,  0, -5,  0,  0,  0,  0,  4],\n",
       "       [ 0,  0,  0,  0,  0,  0,  0,  4],\n",
       "       [ 0,  0,  0,  0,  0,  0,  0,  0],\n",
       "       [ 0,  0,  0,  0,  0,  0,  0,  4],\n",
       "       [ 0,  0,  0,  0,  0,  0,  0,  0],\n",
       "       [ 0,  4,  0,  0,  0,  0,  0,  4],\n",
       "       [ 0,  0,  0,  0,  0,  0,  0,  4],\n",
       "       [ 0,  0,  0,  0,  0,  0,  0,  0],\n",
       "       [-4, -2,  0,  0,  4,  0,  0,  4],\n",
       "       [ 0,  0,  0,  0,  0,  0,  0,  0]], dtype=int32)"
      ]
     },
     "execution_count": 23,
     "metadata": {},
     "output_type": "execute_result"
    }
   ],
   "source": [
    "x"
   ]
  },
  {
   "cell_type": "code",
   "execution_count": 75,
   "id": "bd74d589-a2e1-4484-91cc-299a075ec407",
   "metadata": {},
   "outputs": [
    {
     "ename": "IndexError",
     "evalue": "list index out of range",
     "output_type": "error",
     "traceback": [
      "\u001b[0;31m---------------------------------------------------------------------------\u001b[0m",
      "\u001b[0;31mIndexError\u001b[0m                                Traceback (most recent call last)",
      "Input \u001b[0;32mIn [75]\u001b[0m, in \u001b[0;36m<cell line: 1>\u001b[0;34m()\u001b[0m\n\u001b[0;32m----> 1\u001b[0m [np\u001b[38;5;241m.\u001b[39mmedian(retval[i]) \u001b[38;5;28;01mfor\u001b[39;00m i \u001b[38;5;129;01min\u001b[39;00m \u001b[38;5;28mrange\u001b[39m(\u001b[38;5;241m10\u001b[39m)]\n",
      "Input \u001b[0;32mIn [75]\u001b[0m, in \u001b[0;36m<listcomp>\u001b[0;34m(.0)\u001b[0m\n\u001b[0;32m----> 1\u001b[0m [np\u001b[38;5;241m.\u001b[39mmedian(\u001b[43mretval\u001b[49m\u001b[43m[\u001b[49m\u001b[43mi\u001b[49m\u001b[43m]\u001b[49m) \u001b[38;5;28;01mfor\u001b[39;00m i \u001b[38;5;129;01min\u001b[39;00m \u001b[38;5;28mrange\u001b[39m(\u001b[38;5;241m10\u001b[39m)]\n",
      "\u001b[0;31mIndexError\u001b[0m: list index out of range"
     ]
    }
   ],
   "source": [
    "[np.median(retval[i]) for i in range(10)]"
   ]
  },
  {
   "cell_type": "code",
   "execution_count": 67,
   "id": "97046801-3649-454c-b8c6-b5e047e1cfd9",
   "metadata": {},
   "outputs": [
    {
     "data": {
      "text/plain": [
       "[0.13752465096892316,\n",
       " 0.5922308218649476,\n",
       " 1.2652298927643935,\n",
       " 2.228179972630778,\n",
       " 3.4262654314459895,\n",
       " 5.014081324493932,\n",
       " 6.740649451684565,\n",
       " 8.985462334456058,\n",
       " 11.110232870703111,\n",
       " 15.460414620052987]"
      ]
     },
     "execution_count": 67,
     "metadata": {},
     "output_type": "execute_result"
    }
   ],
   "source": [
    "[np.var(retval[i]) for i in range(10)]"
   ]
  },
  {
   "cell_type": "code",
   "execution_count": 70,
   "id": "a864dd8d-b1d4-4feb-b2d0-694559345b6d",
   "metadata": {},
   "outputs": [
    {
     "data": {
      "text/plain": [
       "[1.0, 4.0, 3.0, 6.0, 4.0, 1.0, 6.0, 4.0, 8.0, 5.0]"
      ]
     },
     "execution_count": 70,
     "metadata": {},
     "output_type": "execute_result"
    }
   ],
   "source": [
    "[np.linalg.norm(x, 0) for x in retval_matching]"
   ]
  },
  {
   "cell_type": "code",
   "execution_count": 63,
   "id": "ab46f9bf-56e0-46cd-a634-8a7b8a716949",
   "metadata": {},
   "outputs": [],
   "source": [
    "retval = []\n",
    "my_vec = np.array([1,0,0])\n",
    "for l in range(1,11):\n",
    "    my_angle = []\n",
    "    for j in range(1000):\n",
    "        my_angle.append(angle_between(my_vec, my_vec + np.random.normal(0,l/100,3)))\n",
    "    retval.append(my_angle)"
   ]
  },
  {
   "cell_type": "code",
   "execution_count": 64,
   "id": "e7904373-0891-4449-abba-bb70263b2b2c",
   "metadata": {},
   "outputs": [
    {
     "data": {
      "text/plain": [
       "[2.027799091459587,\n",
       " 4.6127111808223,\n",
       " 6.4179490744046195,\n",
       " 7.675806696395367,\n",
       " 10.488814896357622,\n",
       " 12.24400512971291,\n",
       " 14.88713382622476,\n",
       " 15.603319452685904,\n",
       " 19.1944943444239,\n",
       " 22.25658700253761]"
      ]
     },
     "execution_count": 64,
     "metadata": {},
     "output_type": "execute_result"
    }
   ],
   "source": [
    "[np.max(retval[i]) for i in range(10)]"
   ]
  },
  {
   "cell_type": "code",
   "execution_count": 45,
   "id": "fc7d3f16-36eb-40ae-b1fa-368f3943d4fc",
   "metadata": {},
   "outputs": [
    {
     "data": {
      "text/plain": [
       "[0.13937145463878653,\n",
       " 0.5523210041327891,\n",
       " 1.295974021041257,\n",
       " 2.2142552337016785,\n",
       " 3.2523459281400586,\n",
       " 5.1809341070102635,\n",
       " 6.642792335977857,\n",
       " 9.50775649504,\n",
       " 11.740659674543156,\n",
       " 14.901856092584064]"
      ]
     },
     "execution_count": 45,
     "metadata": {},
     "output_type": "execute_result"
    }
   ],
   "source": [
    "[np.var(retval[i]) for i in range(10)]"
   ]
  },
  {
   "cell_type": "code",
   "execution_count": null,
   "id": "a1722cad-ceab-4852-b411-49acc92b522f",
   "metadata": {},
   "outputs": [],
   "source": []
  }
 ],
 "metadata": {
  "kernelspec": {
   "display_name": "bonndit",
   "language": "python",
   "name": "bonndit"
  },
  "language_info": {
   "codemirror_mode": {
    "name": "ipython",
    "version": 3
   },
   "file_extension": ".py",
   "mimetype": "text/x-python",
   "name": "python",
   "nbconvert_exporter": "python",
   "pygments_lexer": "ipython3",
   "version": "3.8.10"
  }
 },
 "nbformat": 4,
 "nbformat_minor": 5
}
