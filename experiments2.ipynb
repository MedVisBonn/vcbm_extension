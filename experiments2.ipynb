{
 "cells": [
  {
   "cell_type": "code",
   "execution_count": 1,
   "id": "f885abab-7143-46ee-8fa1-6b214fab65f3",
   "metadata": {},
   "outputs": [],
   "source": [
    "import nrrd\n",
    "import numpy as np\n",
    "from bonndit.utils.tensor import power, norm"
   ]
  },
  {
   "cell_type": "code",
   "execution_count": 11,
   "id": "710a454f-389c-487e-bba0-ecd54123e92c",
   "metadata": {},
   "outputs": [],
   "source": [
    "import os \n",
    "files = ['/mnt/uni/xderes/bootstrap/' + x for x in os.listdir('/mnt/uni/xderes/bootstrap/') if '.' not in x]"
   ]
  },
  {
   "cell_type": "code",
   "execution_count": 41,
   "id": "03b29e50-49ca-4c68-8e13-7ff9b04fe5d3",
   "metadata": {},
   "outputs": [
    {
     "name": "stdout",
     "output_type": "stream",
     "text": [
      "/mnt/uni/xderes/bootstrap/959574\n",
      "rank-1.nrrd\n"
     ]
    },
    {
     "name": "stderr",
     "output_type": "stream",
     "text": [
      "100%|█████████████████████████████████████████████████████████████████████████████████████████████████████████████████████████████████████████████████████████████████████████████████████████████| 3658350/3658350 [00:59<00:00, 61481.78it/s]\n"
     ]
    },
    {
     "name": "stdout",
     "output_type": "stream",
     "text": [
      "rank-2.nrrd\n"
     ]
    },
    {
     "name": "stderr",
     "output_type": "stream",
     "text": [
      "100%|█████████████████████████████████████████████████████████████████████████████████████████████████████████████████████████████████████████████████████████████████████████████████████████████| 3658350/3658350 [01:44<00:00, 34977.25it/s]\n"
     ]
    },
    {
     "name": "stdout",
     "output_type": "stream",
     "text": [
      "rank-3.nrrd\n"
     ]
    },
    {
     "name": "stderr",
     "output_type": "stream",
     "text": [
      "100%|█████████████████████████████████████████████████████████████████████████████████████████████████████████████████████████████████████████████████████████████████████████████████████████████| 3658350/3658350 [02:43<00:00, 22331.64it/s]\n"
     ]
    },
    {
     "name": "stdout",
     "output_type": "stream",
     "text": [
      "/mnt/uni/xderes/bootstrap/932554\n",
      "rank-1.nrrd\n"
     ]
    },
    {
     "name": "stderr",
     "output_type": "stream",
     "text": [
      "100%|█████████████████████████████████████████████████████████████████████████████████████████████████████████████████████████████████████████████████████████████████████████████████████████████| 3658350/3658350 [01:23<00:00, 43991.31it/s]\n"
     ]
    },
    {
     "name": "stdout",
     "output_type": "stream",
     "text": [
      "rank-2.nrrd\n"
     ]
    },
    {
     "name": "stderr",
     "output_type": "stream",
     "text": [
      "100%|█████████████████████████████████████████████████████████████████████████████████████████████████████████████████████████████████████████████████████████████████████████████████████████████| 3658350/3658350 [02:35<00:00, 23544.81it/s]\n"
     ]
    },
    {
     "name": "stdout",
     "output_type": "stream",
     "text": [
      "rank-3.nrrd\n"
     ]
    },
    {
     "name": "stderr",
     "output_type": "stream",
     "text": [
      "100%|█████████████████████████████████████████████████████████████████████████████████████████████████████████████████████████████████████████████████████████████████████████████████████████████| 3658350/3658350 [03:52<00:00, 15727.41it/s]\n"
     ]
    },
    {
     "name": "stdout",
     "output_type": "stream",
     "text": [
      "/mnt/uni/xderes/bootstrap/917255\n",
      "rank-1.nrrd\n"
     ]
    },
    {
     "name": "stderr",
     "output_type": "stream",
     "text": [
      "100%|█████████████████████████████████████████████████████████████████████████████████████████████████████████████████████████████████████████████████████████████████████████████████████████████| 3658350/3658350 [01:23<00:00, 43876.34it/s]\n"
     ]
    },
    {
     "name": "stdout",
     "output_type": "stream",
     "text": [
      "rank-2.nrrd\n"
     ]
    },
    {
     "name": "stderr",
     "output_type": "stream",
     "text": [
      "100%|█████████████████████████████████████████████████████████████████████████████████████████████████████████████████████████████████████████████████████████████████████████████████████████████| 3658350/3658350 [02:04<00:00, 29317.15it/s]\n"
     ]
    },
    {
     "name": "stdout",
     "output_type": "stream",
     "text": [
      "rank-3.nrrd\n"
     ]
    },
    {
     "name": "stderr",
     "output_type": "stream",
     "text": [
      "100%|█████████████████████████████████████████████████████████████████████████████████████████████████████████████████████████████████████████████████████████████████████████████████████████████| 3658350/3658350 [02:47<00:00, 21786.27it/s]\n"
     ]
    },
    {
     "name": "stdout",
     "output_type": "stream",
     "text": [
      "/mnt/uni/xderes/bootstrap/957974\n",
      "rank-1.nrrd\n"
     ]
    },
    {
     "name": "stderr",
     "output_type": "stream",
     "text": [
      "100%|█████████████████████████████████████████████████████████████████████████████████████████████████████████████████████████████████████████████████████████████████████████████████████████████| 3658350/3658350 [00:57<00:00, 63135.32it/s]\n"
     ]
    },
    {
     "name": "stdout",
     "output_type": "stream",
     "text": [
      "rank-2.nrrd\n"
     ]
    },
    {
     "name": "stderr",
     "output_type": "stream",
     "text": [
      "100%|█████████████████████████████████████████████████████████████████████████████████████████████████████████████████████████████████████████████████████████████████████████████████████████████| 3658350/3658350 [01:44<00:00, 34925.58it/s]\n"
     ]
    },
    {
     "name": "stdout",
     "output_type": "stream",
     "text": [
      "rank-3.nrrd\n"
     ]
    },
    {
     "name": "stderr",
     "output_type": "stream",
     "text": [
      "100%|█████████████████████████████████████████████████████████████████████████████████████████████████████████████████████████████████████████████████████████████████████████████████████████████| 3658350/3658350 [02:31<00:00, 24197.40it/s]\n"
     ]
    },
    {
     "name": "stdout",
     "output_type": "stream",
     "text": [
      "/mnt/uni/xderes/bootstrap/930449\n",
      "rank-1.nrrd\n"
     ]
    },
    {
     "name": "stderr",
     "output_type": "stream",
     "text": [
      "100%|█████████████████████████████████████████████████████████████████████████████████████████████████████████████████████████████████████████████████████████████████████████████████████████████| 3658350/3658350 [00:50<00:00, 73072.23it/s]\n"
     ]
    },
    {
     "name": "stdout",
     "output_type": "stream",
     "text": [
      "rank-2.nrrd\n"
     ]
    },
    {
     "name": "stderr",
     "output_type": "stream",
     "text": [
      "100%|█████████████████████████████████████████████████████████████████████████████████████████████████████████████████████████████████████████████████████████████████████████████████████████████| 3658350/3658350 [01:31<00:00, 39812.72it/s]\n"
     ]
    },
    {
     "name": "stdout",
     "output_type": "stream",
     "text": [
      "rank-3.nrrd\n"
     ]
    },
    {
     "name": "stderr",
     "output_type": "stream",
     "text": [
      "100%|█████████████████████████████████████████████████████████████████████████████████████████████████████████████████████████████████████████████████████████████████████████████████████████████| 3658350/3658350 [02:22<00:00, 25584.28it/s]\n"
     ]
    },
    {
     "name": "stdout",
     "output_type": "stream",
     "text": [
      "/mnt/uni/xderes/bootstrap/951457\n",
      "rank-1.nrrd\n"
     ]
    },
    {
     "name": "stderr",
     "output_type": "stream",
     "text": [
      "100%|█████████████████████████████████████████████████████████████████████████████████████████████████████████████████████████████████████████████████████████████████████████████████████████████| 3658350/3658350 [01:04<00:00, 57061.31it/s]\n"
     ]
    },
    {
     "name": "stdout",
     "output_type": "stream",
     "text": [
      "rank-2.nrrd\n"
     ]
    },
    {
     "name": "stderr",
     "output_type": "stream",
     "text": [
      "100%|█████████████████████████████████████████████████████████████████████████████████████████████████████████████████████████████████████████████████████████████████████████████████████████████| 3658350/3658350 [01:56<00:00, 31390.86it/s]\n"
     ]
    },
    {
     "name": "stdout",
     "output_type": "stream",
     "text": [
      "rank-3.nrrd\n"
     ]
    },
    {
     "name": "stderr",
     "output_type": "stream",
     "text": [
      "100%|█████████████████████████████████████████████████████████████████████████████████████████████████████████████████████████████████████████████████████████████████████████████████████████████| 3658350/3658350 [02:49<00:00, 21581.13it/s]\n"
     ]
    },
    {
     "name": "stdout",
     "output_type": "stream",
     "text": [
      "/mnt/uni/xderes/bootstrap/910241\n",
      "rank-1.nrrd\n"
     ]
    },
    {
     "name": "stderr",
     "output_type": "stream",
     "text": [
      "100%|█████████████████████████████████████████████████████████████████████████████████████████████████████████████████████████████████████████████████████████████████████████████████████████████| 3658350/3658350 [01:26<00:00, 42446.20it/s]\n"
     ]
    },
    {
     "name": "stdout",
     "output_type": "stream",
     "text": [
      "rank-2.nrrd\n"
     ]
    },
    {
     "name": "stderr",
     "output_type": "stream",
     "text": [
      "100%|█████████████████████████████████████████████████████████████████████████████████████████████████████████████████████████████████████████████████████████████████████████████████████████████| 3658350/3658350 [02:20<00:00, 25954.77it/s]\n"
     ]
    },
    {
     "name": "stdout",
     "output_type": "stream",
     "text": [
      "rank-3.nrrd\n"
     ]
    },
    {
     "name": "stderr",
     "output_type": "stream",
     "text": [
      "100%|█████████████████████████████████████████████████████████████████████████████████████████████████████████████████████████████████████████████████████████████████████████████████████████████| 3658350/3658350 [02:52<00:00, 21233.53it/s]\n"
     ]
    },
    {
     "name": "stdout",
     "output_type": "stream",
     "text": [
      "/mnt/uni/xderes/bootstrap/922854\n",
      "rank-1.nrrd\n"
     ]
    },
    {
     "name": "stderr",
     "output_type": "stream",
     "text": [
      "100%|█████████████████████████████████████████████████████████████████████████████████████████████████████████████████████████████████████████████████████████████████████████████████████████████| 3658350/3658350 [01:04<00:00, 56910.77it/s]\n"
     ]
    },
    {
     "name": "stdout",
     "output_type": "stream",
     "text": [
      "rank-2.nrrd\n"
     ]
    },
    {
     "name": "stderr",
     "output_type": "stream",
     "text": [
      "100%|█████████████████████████████████████████████████████████████████████████████████████████████████████████████████████████████████████████████████████████████████████████████████████████████| 3658350/3658350 [01:58<00:00, 30997.78it/s]\n"
     ]
    },
    {
     "name": "stdout",
     "output_type": "stream",
     "text": [
      "rank-3.nrrd\n"
     ]
    },
    {
     "name": "stderr",
     "output_type": "stream",
     "text": [
      "100%|█████████████████████████████████████████████████████████████████████████████████████████████████████████████████████████████████████████████████████████████████████████████████████████████| 3658350/3658350 [02:52<00:00, 21193.47it/s]\n"
     ]
    },
    {
     "name": "stdout",
     "output_type": "stream",
     "text": [
      "/mnt/uni/xderes/bootstrap/958976\n",
      "rank-1.nrrd\n"
     ]
    },
    {
     "name": "stderr",
     "output_type": "stream",
     "text": [
      "100%|█████████████████████████████████████████████████████████████████████████████████████████████████████████████████████████████████████████████████████████████████████████████████████████████| 3658350/3658350 [00:54<00:00, 67269.25it/s]\n"
     ]
    },
    {
     "name": "stdout",
     "output_type": "stream",
     "text": [
      "rank-2.nrrd\n"
     ]
    },
    {
     "name": "stderr",
     "output_type": "stream",
     "text": [
      "100%|█████████████████████████████████████████████████████████████████████████████████████████████████████████████████████████████████████████████████████████████████████████████████████████████| 3658350/3658350 [01:40<00:00, 36525.52it/s]\n"
     ]
    },
    {
     "name": "stdout",
     "output_type": "stream",
     "text": [
      "rank-3.nrrd\n"
     ]
    },
    {
     "name": "stderr",
     "output_type": "stream",
     "text": [
      "100%|█████████████████████████████████████████████████████████████████████████████████████████████████████████████████████████████████████████████████████████████████████████████████████████████| 3658350/3658350 [02:27<00:00, 24737.58it/s]\n"
     ]
    },
    {
     "name": "stdout",
     "output_type": "stream",
     "text": [
      "/mnt/uni/xderes/bootstrap/912447\n",
      "rank-1.nrrd\n"
     ]
    },
    {
     "name": "stderr",
     "output_type": "stream",
     "text": [
      "100%|█████████████████████████████████████████████████████████████████████████████████████████████████████████████████████████████████████████████████████████████████████████████████████████████| 3658350/3658350 [01:10<00:00, 52017.95it/s]\n"
     ]
    },
    {
     "name": "stdout",
     "output_type": "stream",
     "text": [
      "rank-2.nrrd\n"
     ]
    },
    {
     "name": "stderr",
     "output_type": "stream",
     "text": [
      "100%|█████████████████████████████████████████████████████████████████████████████████████████████████████████████████████████████████████████████████████████████████████████████████████████████| 3658350/3658350 [02:12<00:00, 27610.83it/s]\n"
     ]
    },
    {
     "name": "stdout",
     "output_type": "stream",
     "text": [
      "rank-3.nrrd\n"
     ]
    },
    {
     "name": "stderr",
     "output_type": "stream",
     "text": [
      "100%|█████████████████████████████████████████████████████████████████████████████████████████████████████████████████████████████████████████████████████████████████████████████████████████████| 3658350/3658350 [03:11<00:00, 19116.35it/s]\n"
     ]
    },
    {
     "name": "stdout",
     "output_type": "stream",
     "text": [
      "/mnt/uni/xderes/bootstrap/907656\n",
      "rank-1.nrrd\n"
     ]
    },
    {
     "name": "stderr",
     "output_type": "stream",
     "text": [
      "100%|█████████████████████████████████████████████████████████████████████████████████████████████████████████████████████████████████████████████████████████████████████████████████████████████| 3658350/3658350 [00:43<00:00, 83410.35it/s]\n"
     ]
    },
    {
     "name": "stdout",
     "output_type": "stream",
     "text": [
      "rank-2.nrrd\n"
     ]
    },
    {
     "name": "stderr",
     "output_type": "stream",
     "text": [
      "100%|█████████████████████████████████████████████████████████████████████████████████████████████████████████████████████████████████████████████████████████████████████████████████████████████| 3658350/3658350 [01:19<00:00, 46221.50it/s]\n"
     ]
    },
    {
     "name": "stdout",
     "output_type": "stream",
     "text": [
      "rank-3.nrrd\n"
     ]
    },
    {
     "name": "stderr",
     "output_type": "stream",
     "text": [
      "100%|█████████████████████████████████████████████████████████████████████████████████████████████████████████████████████████████████████████████████████████████████████████████████████████████| 3658350/3658350 [01:52<00:00, 32416.06it/s]\n"
     ]
    }
   ],
   "source": [
    "my_dict = {} \n",
    "from tqdm import tqdm\n",
    "for folder in files:\n",
    "    print(folder)\n",
    "    overall_res = []\n",
    "    wm, _ = nrrd.read(folder + '/ankele/wmvolume.nrrd' )\n",
    "    for f in ['rank-1.nrrd', 'rank-2.nrrd', 'rank-3.nrrd']:\n",
    "        print(f)\n",
    "        fodf, _ = nrrd.read(folder + '/ankele/fodf.nrrd' )\n",
    "        rank, _ = nrrd.read(folder + '/ankele/' + f) \n",
    "        residuals = []\n",
    "        for i, j, k in tqdm(np.ndindex(fodf.shape[1:]), total=np.prod(fodf.shape[1:])):\n",
    "            if fodf[0,i,j,k] == 0 or wm[i,j,k] < 0.3: \n",
    "                continue\n",
    "            fodf_norm = norm(fodf[1:,i,j,k])\n",
    "            for l in range(rank.shape[1]):\n",
    "                fodf[1:, i,j,k] -= rank[0, l, i,j,k] * power(rank[1:, l, i,j,k],4)\n",
    "            residuals.append(norm(fodf[1:,i,j,k])/ fodf_norm)\n",
    "        overall_res.append(residuals)\n",
    "    my_dict[folder] = overall_res\n",
    "    "
   ]
  },
  {
   "cell_type": "code",
   "execution_count": 22,
   "id": "fc70e960-3623-4418-b2b7-60088ad8dfa8",
   "metadata": {},
   "outputs": [
    {
     "ename": "KeyError",
     "evalue": "'/mnt/uni/xderes/bootstrap/959574'",
     "output_type": "error",
     "traceback": [
      "\u001b[0;31m---------------------------------------------------------------------------\u001b[0m",
      "\u001b[0;31mKeyError\u001b[0m                                  Traceback (most recent call last)",
      "Input \u001b[0;32mIn [22]\u001b[0m, in \u001b[0;36m<cell line: 1>\u001b[0;34m()\u001b[0m\n\u001b[0;32m----> 1\u001b[0m \u001b[43mmy_dict\u001b[49m\u001b[43m[\u001b[49m\u001b[38;5;124;43m'\u001b[39;49m\u001b[38;5;124;43m/mnt/uni/xderes/bootstrap/959574\u001b[39;49m\u001b[38;5;124;43m'\u001b[39;49m\u001b[43m]\u001b[49m[\u001b[38;5;241m0\u001b[39m]\n",
      "\u001b[0;31mKeyError\u001b[0m: '/mnt/uni/xderes/bootstrap/959574'"
     ]
    }
   ],
   "source": []
  },
  {
   "cell_type": "code",
   "execution_count": 12,
   "id": "b02cfd33-8e75-4d67-9b0f-b781b9aa53cb",
   "metadata": {},
   "outputs": [],
   "source": [
    "import seaborn as sns\n",
    "import matplotlib.pyplot as plt"
   ]
  },
  {
   "cell_type": "code",
   "execution_count": 13,
   "id": "a7d05ddb-c1a0-4df0-9b8f-c7a8d7fec5a4",
   "metadata": {},
   "outputs": [
    {
     "data": {
      "text/plain": [
       "<AxesSubplot:>"
      ]
     },
     "execution_count": 13,
     "metadata": {},
     "output_type": "execute_result"
    },
    {
     "data": {
      "image/png": "[encoded data removed]",
      "text/plain": [
       "<Figure size 1440x1440 with 1 Axes>"
      ]
     },
     "metadata": {
      "needs_background": "light"
     },
     "output_type": "display_data"
    }
   ],
   "source": [
    "plt.subplots(figsize=(20,20))\n",
    "xx = np.linspace(0,1,1001)\n",
    "yy = 20*(1-xx)**19\n",
    "for x in [x for x in my_dict.keys()]:\n",
    "    sns.kdeplot(x=my_dict[x][2])\n",
    "    sns.kdeplot(x=my_dict[x][1])\n",
    "    sns.kdeplot(x=my_dict[x][0])\n",
    "sns.lineplot(x=xx, y=yy)"
   ]
  },
  {
   "cell_type": "code",
   "execution_count": 14,
   "id": "787e56d5-1b25-4408-87a8-6701a365c3b6",
   "metadata": {},
   "outputs": [],
   "source": [
    "my_values={}\n",
    "my_thresh =0.3"
   ]
  },
  {
   "cell_type": "code",
   "execution_count": 15,
   "id": "419070fb-7af6-43ba-88ff-3468b9aabcc2",
   "metadata": {},
   "outputs": [],
   "source": [
    "my_dict = {} \n",
    "from tqdm import tqdm\n",
    "for folder in files:\n",
    "    wm, _ = nrrd.read(folder + '/ankele/wmvolume.nrrd' )\n",
    "\n",
    "    rank, _ = nrrd.read(folder + '/ankele/testprobabilities.nrrd')\n",
    "    rank[:,wm<my_thresh] = 0\n",
    "    rank1 = np.zeros((4, *rank.shape[1:]))\n",
    "    \n",
    "    rank1[1:] = rank\n",
    "    rank1 = np.argmax(rank1, axis=0)\n",
    "    my_dict[folder] = rank1.flatten()"
   ]
  },
  {
   "cell_type": "code",
   "execution_count": 16,
   "id": "db5eb320-e2c7-4dec-921a-24034f7c3218",
   "metadata": {},
   "outputs": [],
   "source": [
    "my_ranks={}\n",
    "for i in range(1, 4):\n",
    "    a = []\n",
    "    for x in [x for x in my_dict.keys()]:\n",
    "        a.append(np.count_nonzero(my_dict[x][my_dict[x] == i])/np.count_nonzero(my_dict[x]))\n",
    "    my_ranks[i] = a\n",
    "    "
   ]
  },
  {
   "cell_type": "code",
   "execution_count": 17,
   "id": "b0828fa0-3ac1-4456-a593-fdc4936e26bb",
   "metadata": {},
   "outputs": [],
   "source": [
    "my_values[20] = [np.mean(my_ranks[i]) for i in range(1,4)]\n",
    "my_values['20_min'] = [np.min(my_ranks[i]) for i in range(1,4)]\n",
    "my_values['20_max'] = [np.max(my_ranks[i]) for i in range(1,4)]"
   ]
  },
  {
   "cell_type": "code",
   "execution_count": 18,
   "id": "bbb67b0c-5f75-4393-8254-3fcc285f6933",
   "metadata": {},
   "outputs": [],
   "source": [
    "import pandas as pd"
   ]
  },
  {
   "cell_type": "code",
   "execution_count": 19,
   "id": "8a1053f4-e133-4d6c-8896-98faa92067e8",
   "metadata": {},
   "outputs": [],
   "source": [
    "my_ranks = pd.DataFrame(my_ranks)\n"
   ]
  },
  {
   "cell_type": "code",
   "execution_count": 20,
   "id": "07a74d88-09ae-4898-88a7-9a8d48152079",
   "metadata": {},
   "outputs": [],
   "source": [
    "x = my_ranks.stack().reset_index()\n"
   ]
  },
  {
   "cell_type": "code",
   "execution_count": 21,
   "id": "57c65abe-f075-4250-842f-4c3a89d53c40",
   "metadata": {},
   "outputs": [
    {
     "data": {
      "text/plain": [
       "<AxesSubplot:xlabel='level_1', ylabel='0'>"
      ]
     },
     "execution_count": 21,
     "metadata": {},
     "output_type": "execute_result"
    },
    {
     "data": {
      "image/png": "[encoded data removed]",
      "text/plain": [
       "<Figure size 432x288 with 1 Axes>"
      ]
     },
     "metadata": {
      "needs_background": "light"
     },
     "output_type": "display_data"
    }
   ],
   "source": [
    "sns.boxplot(data=x, x='level_1', y=0)\n"
   ]
  },
  {
   "cell_type": "code",
   "execution_count": 22,
   "id": "c6239ebb-9ea2-4dfc-a738-eaef91e2c270",
   "metadata": {},
   "outputs": [
    {
     "name": "stdout",
     "output_type": "stream",
     "text": [
      "/mnt/uni/xderes/bootstrap/959574\n",
      "/mnt/uni/xderes/bootstrap/932554\n",
      "/mnt/uni/xderes/bootstrap/917255\n",
      "/mnt/uni/xderes/bootstrap/957974\n",
      "/mnt/uni/xderes/bootstrap/930449\n",
      "/mnt/uni/xderes/bootstrap/951457\n",
      "/mnt/uni/xderes/bootstrap/910241\n",
      "/mnt/uni/xderes/bootstrap/922854\n",
      "/mnt/uni/xderes/bootstrap/958976\n",
      "/mnt/uni/xderes/bootstrap/912447\n",
      "/mnt/uni/xderes/bootstrap/907656\n"
     ]
    },
    {
     "data": {
      "image/png": "[encoded data removed]",
      "text/plain": [
       "<Figure size 432x288 with 1 Axes>"
      ]
     },
     "metadata": {
      "needs_background": "light"
     },
     "output_type": "display_data"
    }
   ],
   "source": [
    "my_dict = {} \n",
    "from tqdm import tqdm\n",
    "for folder in files:\n",
    "    wm, _ = nrrd.read(folder + '/ankele/wmvolume.nrrd' )\n",
    "    print(folder)\n",
    "    rank, _ = nrrd.read(folder + '/ankele/test_10probabilities.nrrd')\n",
    "    rank[:,wm<my_thresh] = 0\n",
    "    rank1 = np.zeros((4, *rank.shape[1:]))\n",
    "    rank1[1:] = rank\n",
    "    rank1 = np.argmax(rank1, axis=0)\n",
    "    my_dict[folder] = rank1.flatten()\n",
    "my_ranks={}\n",
    "for i in range(1, 4):\n",
    "    a = []\n",
    "    for x in [x for x in my_dict.keys()]:\n",
    "        a.append(np.count_nonzero(my_dict[x][my_dict[x] == i])/np.count_nonzero(my_dict[x]))\n",
    "    my_ranks[i] = a\n",
    "my_ranks = pd.DataFrame(my_ranks)\n",
    "x = my_ranks.stack().reset_index()\n",
    "sns.boxplot(data=x, x='level_1', y=0)\n",
    "my_values[10] = [np.mean(my_ranks[i]) for i in range(1,4)]\n",
    "my_values['10_min'] = [np.min(my_ranks[i]) for i in range(1,4)]\n",
    "my_values['10_max'] = [np.max(my_ranks[i]) for i in range(1,4)]"
   ]
  },
  {
   "cell_type": "code",
   "execution_count": 23,
   "id": "9dda5e80-89ba-469d-9822-2df3c6c8c993",
   "metadata": {},
   "outputs": [
    {
     "name": "stdout",
     "output_type": "stream",
     "text": [
      "/mnt/uni/xderes/bootstrap/959574\n",
      "/mnt/uni/xderes/bootstrap/932554\n",
      "/mnt/uni/xderes/bootstrap/917255\n",
      "/mnt/uni/xderes/bootstrap/957974\n",
      "/mnt/uni/xderes/bootstrap/930449\n",
      "/mnt/uni/xderes/bootstrap/951457\n",
      "/mnt/uni/xderes/bootstrap/910241\n",
      "/mnt/uni/xderes/bootstrap/922854\n",
      "/mnt/uni/xderes/bootstrap/958976\n",
      "/mnt/uni/xderes/bootstrap/912447\n",
      "/mnt/uni/xderes/bootstrap/907656\n"
     ]
    },
    {
     "data": {
      "image/png": "[encoded data removed]",
      "text/plain": [
       "<Figure size 432x288 with 1 Axes>"
      ]
     },
     "metadata": {
      "needs_background": "light"
     },
     "output_type": "display_data"
    }
   ],
   "source": [
    "my_dict = {} \n",
    "from tqdm import tqdm\n",
    "for folder in files:\n",
    "    wm, _ = nrrd.read(folder + '/ankele/wmvolume.nrrd' )\n",
    "    print(folder)\n",
    "    rank, _ = nrrd.read(folder + '/ankele/test_125probabilities.nrrd')\n",
    "    rank[:,wm<my_thresh] = 0\n",
    "    rank1 = np.zeros((4, *rank.shape[1:]))\n",
    "    rank1[1:] = rank\n",
    "    rank1 = np.argmax(rank1, axis=0)\n",
    "    my_dict[folder] = rank1.flatten()\n",
    "my_ranks={}\n",
    "for i in range(1, 4):\n",
    "    a = []\n",
    "    for x in [x for x in my_dict.keys()]:\n",
    "        a.append(np.count_nonzero(my_dict[x][my_dict[x] == i])/np.count_nonzero(my_dict[x]))\n",
    "    my_ranks[i] = a\n",
    "my_ranks = pd.DataFrame(my_ranks)\n",
    "x = my_ranks.stack().reset_index()\n",
    "sns.boxplot(data=x, x='level_1', y=0)\n",
    "my_values[12.5] = [np.mean(my_ranks[i]) for i in range(1,4)]\n",
    "my_values['12.5_min'] = [np.min(my_ranks[i]) for i in range(1,4)]\n",
    "my_values['12.5_max'] = [np.max(my_ranks[i]) for i in range(1,4)]"
   ]
  },
  {
   "cell_type": "code",
   "execution_count": 24,
   "id": "540589af-cff9-4726-bb51-5344b4eb21da",
   "metadata": {},
   "outputs": [
    {
     "name": "stdout",
     "output_type": "stream",
     "text": [
      "/mnt/uni/xderes/bootstrap/959574\n",
      "/mnt/uni/xderes/bootstrap/932554\n",
      "/mnt/uni/xderes/bootstrap/917255\n",
      "/mnt/uni/xderes/bootstrap/957974\n",
      "/mnt/uni/xderes/bootstrap/930449\n",
      "/mnt/uni/xderes/bootstrap/951457\n",
      "/mnt/uni/xderes/bootstrap/910241\n",
      "/mnt/uni/xderes/bootstrap/922854\n",
      "/mnt/uni/xderes/bootstrap/958976\n",
      "/mnt/uni/xderes/bootstrap/912447\n",
      "/mnt/uni/xderes/bootstrap/907656\n"
     ]
    },
    {
     "data": {
      "image/png": "[encoded data removed]",
      "text/plain": [
       "<Figure size 432x288 with 1 Axes>"
      ]
     },
     "metadata": {
      "needs_background": "light"
     },
     "output_type": "display_data"
    }
   ],
   "source": [
    "my_dict = {} \n",
    "from tqdm import tqdm\n",
    "for folder in files:\n",
    "    wm, _ = nrrd.read(folder + '/ankele/wmvolume.nrrd' )\n",
    "    print(folder)\n",
    "    rank, _ = nrrd.read(folder + '/ankele/test_175probabilities.nrrd')\n",
    "    rank[:,wm<my_thresh] = 0\n",
    "    rank1 = np.zeros((4, *rank.shape[1:]))\n",
    "    rank1[1:] = rank\n",
    "    rank1 = np.argmax(rank1, axis=0)\n",
    "    my_dict[folder] = rank1.flatten()\n",
    "my_ranks={}\n",
    "for i in range(1, 4):\n",
    "    a = []\n",
    "    for x in [x for x in my_dict.keys()]:\n",
    "        a.append(np.count_nonzero(my_dict[x][my_dict[x] == i])/np.count_nonzero(my_dict[x]))\n",
    "    my_ranks[i] = a\n",
    "my_ranks = pd.DataFrame(my_ranks)\n",
    "x = my_ranks.stack().reset_index()\n",
    "sns.boxplot(data=x, x='level_1', y=0)\n",
    "my_values[17.5] = [np.mean(my_ranks[i]) for i in range(1,4)]\n",
    "my_values['17.5_min'] = [np.min(my_ranks[i]) for i in range(1,4)]\n",
    "my_values['17.5_max'] = [np.max(my_ranks[i]) for i in range(1,4)]"
   ]
  },
  {
   "cell_type": "code",
   "execution_count": 25,
   "id": "4b138fec-ea90-4b72-bacd-56eaa876b05e",
   "metadata": {},
   "outputs": [
    {
     "name": "stdout",
     "output_type": "stream",
     "text": [
      "/mnt/uni/xderes/bootstrap/959574\n",
      "/mnt/uni/xderes/bootstrap/932554\n",
      "/mnt/uni/xderes/bootstrap/917255\n",
      "/mnt/uni/xderes/bootstrap/957974\n",
      "/mnt/uni/xderes/bootstrap/930449\n",
      "/mnt/uni/xderes/bootstrap/951457\n",
      "/mnt/uni/xderes/bootstrap/910241\n",
      "/mnt/uni/xderes/bootstrap/922854\n",
      "/mnt/uni/xderes/bootstrap/958976\n",
      "/mnt/uni/xderes/bootstrap/912447\n",
      "/mnt/uni/xderes/bootstrap/907656\n"
     ]
    },
    {
     "data": {
      "image/png": "[encoded data removed]",
      "text/plain": [
       "<Figure size 432x288 with 1 Axes>"
      ]
     },
     "metadata": {
      "needs_background": "light"
     },
     "output_type": "display_data"
    }
   ],
   "source": [
    "my_dict = {} \n",
    "from tqdm import tqdm\n",
    "for folder in files:\n",
    "    wm, _ = nrrd.read(folder + '/ankele/wmvolume.nrrd' )\n",
    "    print(folder)\n",
    "    rank, _ = nrrd.read(folder + '/ankele/test_225probabilities.nrrd')\n",
    "    rank[:,wm<my_thresh] = 0\n",
    "    rank1 = np.zeros((4, *rank.shape[1:]))\n",
    "    rank1[1:] = rank\n",
    "    rank1 = np.argmax(rank1, axis=0)\n",
    "    my_dict[folder] = rank1.flatten()\n",
    "my_ranks={}\n",
    "for i in range(1, 4):\n",
    "    a = []\n",
    "    for x in [x for x in my_dict.keys()]:\n",
    "        a.append(np.count_nonzero(my_dict[x][my_dict[x] == i])/np.count_nonzero(my_dict[x]))\n",
    "    my_ranks[i] = a\n",
    "my_ranks = pd.DataFrame(my_ranks)\n",
    "x = my_ranks.stack().reset_index()\n",
    "sns.boxplot(data=x, x='level_1', y=0)\n",
    "my_values[22.5] = [np.mean(my_ranks[i]) for i in range(1,4)]\n",
    "my_values['22.5_min'] = [np.min(my_ranks[i]) for i in range(1,4)]\n",
    "my_values['22.5_max'] = [np.max(my_ranks[i]) for i in range(1,4)]"
   ]
  },
  {
   "cell_type": "code",
   "execution_count": 26,
   "id": "5f5541c5-6bda-40cd-bde0-afd2faf56774",
   "metadata": {},
   "outputs": [
    {
     "name": "stdout",
     "output_type": "stream",
     "text": [
      "/mnt/uni/xderes/bootstrap/959574\n",
      "/mnt/uni/xderes/bootstrap/932554\n",
      "/mnt/uni/xderes/bootstrap/917255\n",
      "/mnt/uni/xderes/bootstrap/957974\n",
      "/mnt/uni/xderes/bootstrap/930449\n",
      "/mnt/uni/xderes/bootstrap/951457\n",
      "/mnt/uni/xderes/bootstrap/910241\n",
      "/mnt/uni/xderes/bootstrap/922854\n",
      "/mnt/uni/xderes/bootstrap/958976\n",
      "/mnt/uni/xderes/bootstrap/912447\n",
      "/mnt/uni/xderes/bootstrap/907656\n"
     ]
    },
    {
     "data": {
      "image/png": "[encoded data removed]",
      "text/plain": [
       "<Figure size 432x288 with 1 Axes>"
      ]
     },
     "metadata": {
      "needs_background": "light"
     },
     "output_type": "display_data"
    }
   ],
   "source": [
    "my_dict = {} \n",
    "from tqdm import tqdm\n",
    "for folder in files:\n",
    "    wm, _ = nrrd.read(folder + '/ankele/wmvolume.nrrd' )\n",
    "    print(folder)\n",
    "    rank, _ = nrrd.read(folder + '/ankele/test_275probabilities.nrrd')\n",
    "    rank[:,wm<my_thresh] = 0\n",
    "    rank1 = np.zeros((4, *rank.shape[1:]))\n",
    "    rank1[1:] = rank\n",
    "    rank1 = np.argmax(rank1, axis=0)\n",
    "    my_dict[folder] = rank1.flatten()\n",
    "my_ranks={}\n",
    "for i in range(1, 4):\n",
    "    a = []\n",
    "    for x in [x for x in my_dict.keys()]:\n",
    "        a.append(np.count_nonzero(my_dict[x][my_dict[x] == i])/np.count_nonzero(my_dict[x]))\n",
    "    my_ranks[i] = a\n",
    "my_ranks = pd.DataFrame(my_ranks)\n",
    "x = my_ranks.stack().reset_index()\n",
    "sns.boxplot(data=x, x='level_1', y=0)\n",
    "my_values[27.5] = [np.mean(my_ranks[i]) for i in range(1,4)]\n",
    "my_values['27.5_min'] = [np.min(my_ranks[i]) for i in range(1,4)]\n",
    "my_values['27.5_max'] = [np.max(my_ranks[i]) for i in range(1,4)]"
   ]
  },
  {
   "cell_type": "code",
   "execution_count": null,
   "id": "1e75ba1e-e706-49d4-8226-1d4b52a9e1ee",
   "metadata": {},
   "outputs": [],
   "source": []
  },
  {
   "cell_type": "code",
   "execution_count": 27,
   "id": "f474a33c-83ca-4502-b012-e6ba84ee0634",
   "metadata": {},
   "outputs": [
    {
     "name": "stdout",
     "output_type": "stream",
     "text": [
      "/mnt/uni/xderes/bootstrap/959574\n",
      "/mnt/uni/xderes/bootstrap/932554\n",
      "/mnt/uni/xderes/bootstrap/917255\n",
      "/mnt/uni/xderes/bootstrap/957974\n",
      "/mnt/uni/xderes/bootstrap/930449\n",
      "/mnt/uni/xderes/bootstrap/951457\n",
      "/mnt/uni/xderes/bootstrap/910241\n",
      "/mnt/uni/xderes/bootstrap/922854\n",
      "/mnt/uni/xderes/bootstrap/958976\n",
      "/mnt/uni/xderes/bootstrap/912447\n",
      "/mnt/uni/xderes/bootstrap/907656\n"
     ]
    },
    {
     "data": {
      "text/plain": [
       "<AxesSubplot:xlabel='level_1', ylabel='0'>"
      ]
     },
     "execution_count": 27,
     "metadata": {},
     "output_type": "execute_result"
    },
    {
     "data": {
      "image/png": "[encoded data removed]",
      "text/plain": [
       "<Figure size 432x288 with 1 Axes>"
      ]
     },
     "metadata": {
      "needs_background": "light"
     },
     "output_type": "display_data"
    }
   ],
   "source": [
    "my_dict = {} \n",
    "from tqdm import tqdm\n",
    "for folder in files:\n",
    "    wm, _ = nrrd.read(folder + '/ankele/wmvolume.nrrd' )\n",
    "    print(folder)\n",
    "    rank, _ = nrrd.read(folder + '/ankele/test_30probabilities.nrrd')\n",
    "    rank[:,wm<my_thresh] = 0\n",
    "    rank1 = np.zeros((4, *rank.shape[1:]))\n",
    "    rank1[1:] = rank\n",
    "    rank1 = np.argmax(rank1, axis=0)\n",
    "    my_dict[folder] = rank1.flatten()\n",
    "my_ranks={}\n",
    "for i in range(1, 4):\n",
    "    a = []\n",
    "    for x in [x for x in my_dict.keys()]:\n",
    "        a.append(np.count_nonzero(my_dict[x][my_dict[x] == i])/np.count_nonzero(my_dict[x]))\n",
    "    my_ranks[i] = a\n",
    "my_ranks = pd.DataFrame(my_ranks)\n",
    "x = my_ranks.stack().reset_index()\n",
    "my_values[30] = [np.mean(my_ranks[i]) for i in range(1,4)]\n",
    "my_values['30_min'] = [np.min(my_ranks[i]) for i in range(1,4)]\n",
    "my_values['30_max'] = [np.max(my_ranks[i]) for i in range(1,4)]\n",
    "sns.boxplot(data=x, x='level_1', y=0)"
   ]
  },
  {
   "cell_type": "code",
   "execution_count": 28,
   "id": "09f59a97-2832-48c6-a0ca-e4ce4b9c8e61",
   "metadata": {},
   "outputs": [
    {
     "name": "stdout",
     "output_type": "stream",
     "text": [
      "/mnt/uni/xderes/bootstrap/959574\n",
      "/mnt/uni/xderes/bootstrap/932554\n",
      "/mnt/uni/xderes/bootstrap/917255\n",
      "/mnt/uni/xderes/bootstrap/957974\n",
      "/mnt/uni/xderes/bootstrap/930449\n",
      "/mnt/uni/xderes/bootstrap/951457\n",
      "/mnt/uni/xderes/bootstrap/910241\n",
      "/mnt/uni/xderes/bootstrap/922854\n",
      "/mnt/uni/xderes/bootstrap/958976\n",
      "/mnt/uni/xderes/bootstrap/912447\n",
      "/mnt/uni/xderes/bootstrap/907656\n"
     ]
    },
    {
     "data": {
      "text/plain": [
       "<AxesSubplot:xlabel='level_1', ylabel='0'>"
      ]
     },
     "execution_count": 28,
     "metadata": {},
     "output_type": "execute_result"
    },
    {
     "data": {
      "image/png": "[encoded data removed]",
      "text/plain": [
       "<Figure size 432x288 with 1 Axes>"
      ]
     },
     "metadata": {
      "needs_background": "light"
     },
     "output_type": "display_data"
    }
   ],
   "source": [
    "my_dict = {} \n",
    "from tqdm import tqdm\n",
    "for folder in files:\n",
    "    wm, _ = nrrd.read(folder + '/ankele/wmvolume.nrrd' )\n",
    "    print(folder)\n",
    "    rank, _ = nrrd.read(folder + '/ankele/test_15probabilities.nrrd')\n",
    "    rank[:,wm<my_thresh] = 0\n",
    "    rank1 = np.zeros((4, *rank.shape[1:]))\n",
    "    rank1[1:] = rank\n",
    "    rank1 = np.argmax(rank1, axis=0)\n",
    "    my_dict[folder] = rank1.flatten()\n",
    "my_ranks={}\n",
    "for i in range(1, 4):\n",
    "    a = []\n",
    "    for x in [x for x in my_dict.keys()]:\n",
    "        a.append(np.count_nonzero(my_dict[x][my_dict[x] == i])/np.count_nonzero(my_dict[x]))\n",
    "    my_ranks[i] = a\n",
    "my_ranks = pd.DataFrame(my_ranks)\n",
    "x = my_ranks.stack().reset_index()\n",
    "my_values[15] = [np.mean(my_ranks[i]) for i in range(1,4)]\n",
    "my_values['15_min'] = [np.min(my_ranks[i]) for i in range(1,4)]\n",
    "my_values['15_max'] = [np.max(my_ranks[i]) for i in range(1,4)]\n",
    "sns.boxplot(data=x, x='level_1', y=0)"
   ]
  },
  {
   "cell_type": "code",
   "execution_count": 29,
   "id": "acce5f05-0795-4d55-a396-df3d4cf6021d",
   "metadata": {},
   "outputs": [
    {
     "name": "stdout",
     "output_type": "stream",
     "text": [
      "/mnt/uni/xderes/bootstrap/959574\n",
      "/mnt/uni/xderes/bootstrap/932554\n",
      "/mnt/uni/xderes/bootstrap/917255\n",
      "/mnt/uni/xderes/bootstrap/957974\n",
      "/mnt/uni/xderes/bootstrap/930449\n",
      "/mnt/uni/xderes/bootstrap/951457\n",
      "/mnt/uni/xderes/bootstrap/910241\n",
      "/mnt/uni/xderes/bootstrap/922854\n",
      "/mnt/uni/xderes/bootstrap/958976\n",
      "/mnt/uni/xderes/bootstrap/912447\n",
      "/mnt/uni/xderes/bootstrap/907656\n"
     ]
    },
    {
     "data": {
      "text/plain": [
       "<AxesSubplot:xlabel='level_1', ylabel='0'>"
      ]
     },
     "execution_count": 29,
     "metadata": {},
     "output_type": "execute_result"
    },
    {
     "data": {
      "image/png": "[encoded data removed]",
      "text/plain": [
       "<Figure size 432x288 with 1 Axes>"
      ]
     },
     "metadata": {
      "needs_background": "light"
     },
     "output_type": "display_data"
    }
   ],
   "source": [
    "my_dict = {} \n",
    "from tqdm import tqdm\n",
    "for folder in files:\n",
    "    wm, _ = nrrd.read(folder + '/ankele/wmvolume.nrrd' )\n",
    "    print(folder)\n",
    "    rank, _ = nrrd.read(folder + '/ankele/test_25probabilities.nrrd')\n",
    "    rank[:,wm<my_thresh] = 0\n",
    "    rank1 = np.zeros((4, *rank.shape[1:]))\n",
    "    rank1[1:] = rank\n",
    "    rank1 = np.argmax(rank1, axis=0)\n",
    "    my_dict[folder] = rank1.flatten()\n",
    "my_ranks={}\n",
    "for i in range(1, 4):\n",
    "    a = []\n",
    "    for x in [x for x in my_dict.keys()]:\n",
    "        a.append(np.count_nonzero(my_dict[x][my_dict[x] == i])/np.count_nonzero(my_dict[x]))\n",
    "    my_ranks[i] = a\n",
    "my_ranks = pd.DataFrame(my_ranks)\n",
    "x = my_ranks.stack().reset_index()\n",
    "my_values[25] = [np.mean(my_ranks[i]) for i in range(1,4)]\n",
    "my_values['25_min'] = [np.min(my_ranks[i]) for i in range(1,4)]\n",
    "my_values['25_max'] = [np.max(my_ranks[i]) for i in range(1,4)]\n",
    "sns.boxplot(data=x, x='level_1', y=0)"
   ]
  },
  {
   "cell_type": "code",
   "execution_count": 30,
   "id": "35ebe9f5-ffa8-4a29-924a-c48978200bfd",
   "metadata": {},
   "outputs": [
    {
     "data": {
      "text/html": [
       "<div>\n",
       "<style scoped>\n",
       "    .dataframe tbody tr th:only-of-type {\n",
       "        vertical-align: middle;\n",
       "    }\n",
       "\n",
       "    .dataframe tbody tr th {\n",
       "        vertical-align: top;\n",
       "    }\n",
       "\n",
       "    .dataframe thead th {\n",
       "        text-align: right;\n",
       "    }\n",
       "</style>\n",
       "<table border=\"1\" class=\"dataframe\">\n",
       "  <thead>\n",
       "    <tr style=\"text-align: right;\">\n",
       "      <th></th>\n",
       "      <th>index</th>\n",
       "      <th>0</th>\n",
       "      <th>1</th>\n",
       "      <th>2</th>\n",
       "    </tr>\n",
       "  </thead>\n",
       "  <tbody>\n",
       "    <tr>\n",
       "      <th>0</th>\n",
       "      <td>20</td>\n",
       "      <td>0.254924</td>\n",
       "      <td>0.402752</td>\n",
       "      <td>0.342324</td>\n",
       "    </tr>\n",
       "    <tr>\n",
       "      <th>1</th>\n",
       "      <td>20_min</td>\n",
       "      <td>0.241461</td>\n",
       "      <td>0.396338</td>\n",
       "      <td>0.317205</td>\n",
       "    </tr>\n",
       "    <tr>\n",
       "      <th>2</th>\n",
       "      <td>20_max</td>\n",
       "      <td>0.276636</td>\n",
       "      <td>0.410501</td>\n",
       "      <td>0.356068</td>\n",
       "    </tr>\n",
       "    <tr>\n",
       "      <th>3</th>\n",
       "      <td>10</td>\n",
       "      <td>0.636990</td>\n",
       "      <td>0.333125</td>\n",
       "      <td>0.029886</td>\n",
       "    </tr>\n",
       "    <tr>\n",
       "      <th>4</th>\n",
       "      <td>10_min</td>\n",
       "      <td>0.624596</td>\n",
       "      <td>0.309335</td>\n",
       "      <td>0.025005</td>\n",
       "    </tr>\n",
       "    <tr>\n",
       "      <th>5</th>\n",
       "      <td>10_max</td>\n",
       "      <td>0.665660</td>\n",
       "      <td>0.345021</td>\n",
       "      <td>0.034795</td>\n",
       "    </tr>\n",
       "    <tr>\n",
       "      <th>6</th>\n",
       "      <td>12.5</td>\n",
       "      <td>0.495779</td>\n",
       "      <td>0.401409</td>\n",
       "      <td>0.102812</td>\n",
       "    </tr>\n",
       "    <tr>\n",
       "      <th>7</th>\n",
       "      <td>12.5_min</td>\n",
       "      <td>0.484836</td>\n",
       "      <td>0.384269</td>\n",
       "      <td>0.089573</td>\n",
       "    </tr>\n",
       "    <tr>\n",
       "      <th>8</th>\n",
       "      <td>12.5_max</td>\n",
       "      <td>0.526157</td>\n",
       "      <td>0.410739</td>\n",
       "      <td>0.112735</td>\n",
       "    </tr>\n",
       "    <tr>\n",
       "      <th>9</th>\n",
       "      <td>17.5</td>\n",
       "      <td>0.312339</td>\n",
       "      <td>0.418117</td>\n",
       "      <td>0.269544</td>\n",
       "    </tr>\n",
       "    <tr>\n",
       "      <th>10</th>\n",
       "      <td>17.5_min</td>\n",
       "      <td>0.299582</td>\n",
       "      <td>0.410689</td>\n",
       "      <td>0.246273</td>\n",
       "    </tr>\n",
       "    <tr>\n",
       "      <th>11</th>\n",
       "      <td>17.5_max</td>\n",
       "      <td>0.336738</td>\n",
       "      <td>0.424239</td>\n",
       "      <td>0.280560</td>\n",
       "    </tr>\n",
       "    <tr>\n",
       "      <th>12</th>\n",
       "      <td>22.5</td>\n",
       "      <td>0.212479</td>\n",
       "      <td>0.382331</td>\n",
       "      <td>0.405191</td>\n",
       "    </tr>\n",
       "    <tr>\n",
       "      <th>13</th>\n",
       "      <td>22.5_min</td>\n",
       "      <td>0.199491</td>\n",
       "      <td>0.374713</td>\n",
       "      <td>0.380445</td>\n",
       "    </tr>\n",
       "    <tr>\n",
       "      <th>14</th>\n",
       "      <td>22.5_max</td>\n",
       "      <td>0.230922</td>\n",
       "      <td>0.390331</td>\n",
       "      <td>0.421543</td>\n",
       "    </tr>\n",
       "    <tr>\n",
       "      <th>15</th>\n",
       "      <td>27.5</td>\n",
       "      <td>0.156200</td>\n",
       "      <td>0.340625</td>\n",
       "      <td>0.503175</td>\n",
       "    </tr>\n",
       "    <tr>\n",
       "      <th>16</th>\n",
       "      <td>27.5_min</td>\n",
       "      <td>0.144038</td>\n",
       "      <td>0.329976</td>\n",
       "      <td>0.481323</td>\n",
       "    </tr>\n",
       "    <tr>\n",
       "      <th>17</th>\n",
       "      <td>27.5_max</td>\n",
       "      <td>0.170425</td>\n",
       "      <td>0.350692</td>\n",
       "      <td>0.523366</td>\n",
       "    </tr>\n",
       "    <tr>\n",
       "      <th>18</th>\n",
       "      <td>30</td>\n",
       "      <td>0.137303</td>\n",
       "      <td>0.321771</td>\n",
       "      <td>0.540926</td>\n",
       "    </tr>\n",
       "    <tr>\n",
       "      <th>19</th>\n",
       "      <td>30_min</td>\n",
       "      <td>0.125510</td>\n",
       "      <td>0.309096</td>\n",
       "      <td>0.521059</td>\n",
       "    </tr>\n",
       "    <tr>\n",
       "      <th>20</th>\n",
       "      <td>30_max</td>\n",
       "      <td>0.149464</td>\n",
       "      <td>0.331826</td>\n",
       "      <td>0.562683</td>\n",
       "    </tr>\n",
       "    <tr>\n",
       "      <th>21</th>\n",
       "      <td>15</td>\n",
       "      <td>0.390115</td>\n",
       "      <td>0.421909</td>\n",
       "      <td>0.187976</td>\n",
       "    </tr>\n",
       "    <tr>\n",
       "      <th>22</th>\n",
       "      <td>15_min</td>\n",
       "      <td>0.379682</td>\n",
       "      <td>0.414024</td>\n",
       "      <td>0.168381</td>\n",
       "    </tr>\n",
       "    <tr>\n",
       "      <th>23</th>\n",
       "      <td>15_max</td>\n",
       "      <td>0.417595</td>\n",
       "      <td>0.429399</td>\n",
       "      <td>0.197701</td>\n",
       "    </tr>\n",
       "    <tr>\n",
       "      <th>24</th>\n",
       "      <td>25</td>\n",
       "      <td>0.180437</td>\n",
       "      <td>0.361006</td>\n",
       "      <td>0.458558</td>\n",
       "    </tr>\n",
       "    <tr>\n",
       "      <th>25</th>\n",
       "      <td>25_min</td>\n",
       "      <td>0.167730</td>\n",
       "      <td>0.351254</td>\n",
       "      <td>0.434470</td>\n",
       "    </tr>\n",
       "    <tr>\n",
       "      <th>26</th>\n",
       "      <td>25_max</td>\n",
       "      <td>0.196797</td>\n",
       "      <td>0.370087</td>\n",
       "      <td>0.477603</td>\n",
       "    </tr>\n",
       "  </tbody>\n",
       "</table>\n",
       "</div>"
      ],
      "text/plain": [
       "       index         0         1         2\n",
       "0         20  0.254924  0.402752  0.342324\n",
       "1     20_min  0.241461  0.396338  0.317205\n",
       "2     20_max  0.276636  0.410501  0.356068\n",
       "3         10  0.636990  0.333125  0.029886\n",
       "4     10_min  0.624596  0.309335  0.025005\n",
       "5     10_max  0.665660  0.345021  0.034795\n",
       "6       12.5  0.495779  0.401409  0.102812\n",
       "7   12.5_min  0.484836  0.384269  0.089573\n",
       "8   12.5_max  0.526157  0.410739  0.112735\n",
       "9       17.5  0.312339  0.418117  0.269544\n",
       "10  17.5_min  0.299582  0.410689  0.246273\n",
       "11  17.5_max  0.336738  0.424239  0.280560\n",
       "12      22.5  0.212479  0.382331  0.405191\n",
       "13  22.5_min  0.199491  0.374713  0.380445\n",
       "14  22.5_max  0.230922  0.390331  0.421543\n",
       "15      27.5  0.156200  0.340625  0.503175\n",
       "16  27.5_min  0.144038  0.329976  0.481323\n",
       "17  27.5_max  0.170425  0.350692  0.523366\n",
       "18        30  0.137303  0.321771  0.540926\n",
       "19    30_min  0.125510  0.309096  0.521059\n",
       "20    30_max  0.149464  0.331826  0.562683\n",
       "21        15  0.390115  0.421909  0.187976\n",
       "22    15_min  0.379682  0.414024  0.168381\n",
       "23    15_max  0.417595  0.429399  0.197701\n",
       "24        25  0.180437  0.361006  0.458558\n",
       "25    25_min  0.167730  0.351254  0.434470\n",
       "26    25_max  0.196797  0.370087  0.477603"
      ]
     },
     "execution_count": 30,
     "metadata": {},
     "output_type": "execute_result"
    }
   ],
   "source": [
    "a = pd.DataFrame(my_values).T.reset_index()\n",
    "a"
   ]
  },
  {
   "cell_type": "code",
   "execution_count": 31,
   "id": "097dca25-a86b-4186-81d4-fac64ecbacb3",
   "metadata": {},
   "outputs": [],
   "source": [
    "a['index'] = [float(x[0]) if isinstance(x, list) else a.loc[i,'index'] for i, x in enumerate(a.loc[:,'index'].str.split('_'))]"
   ]
  },
  {
   "cell_type": "code",
   "execution_count": 32,
   "id": "1d9107e6-23b7-41bb-b439-b898d9b80458",
   "metadata": {},
   "outputs": [],
   "source": [
    "a = a.rename(columns={'index': 'b', 0: 'Rank 1', 1: 'Rank 2', 2: 'Rank 3'})"
   ]
  },
  {
   "cell_type": "code",
   "execution_count": 33,
   "id": "f58a21da-3f3e-4e76-97d5-5916ebf96f64",
   "metadata": {},
   "outputs": [
    {
     "data": {
      "text/html": [
       "<div>\n",
       "<style scoped>\n",
       "    .dataframe tbody tr th:only-of-type {\n",
       "        vertical-align: middle;\n",
       "    }\n",
       "\n",
       "    .dataframe tbody tr th {\n",
       "        vertical-align: top;\n",
       "    }\n",
       "\n",
       "    .dataframe thead th {\n",
       "        text-align: right;\n",
       "    }\n",
       "</style>\n",
       "<table border=\"1\" class=\"dataframe\">\n",
       "  <thead>\n",
       "    <tr style=\"text-align: right;\">\n",
       "      <th></th>\n",
       "      <th>b</th>\n",
       "      <th>variable</th>\n",
       "      <th>value</th>\n",
       "    </tr>\n",
       "  </thead>\n",
       "  <tbody>\n",
       "    <tr>\n",
       "      <th>0</th>\n",
       "      <td>20.0</td>\n",
       "      <td>Rank 1</td>\n",
       "      <td>0.254924</td>\n",
       "    </tr>\n",
       "    <tr>\n",
       "      <th>1</th>\n",
       "      <td>20.0</td>\n",
       "      <td>Rank 1</td>\n",
       "      <td>0.241461</td>\n",
       "    </tr>\n",
       "    <tr>\n",
       "      <th>2</th>\n",
       "      <td>20.0</td>\n",
       "      <td>Rank 1</td>\n",
       "      <td>0.276636</td>\n",
       "    </tr>\n",
       "    <tr>\n",
       "      <th>3</th>\n",
       "      <td>10.0</td>\n",
       "      <td>Rank 1</td>\n",
       "      <td>0.636990</td>\n",
       "    </tr>\n",
       "    <tr>\n",
       "      <th>4</th>\n",
       "      <td>10.0</td>\n",
       "      <td>Rank 1</td>\n",
       "      <td>0.624596</td>\n",
       "    </tr>\n",
       "    <tr>\n",
       "      <th>...</th>\n",
       "      <td>...</td>\n",
       "      <td>...</td>\n",
       "      <td>...</td>\n",
       "    </tr>\n",
       "    <tr>\n",
       "      <th>76</th>\n",
       "      <td>15.0</td>\n",
       "      <td>Rank 3</td>\n",
       "      <td>0.168381</td>\n",
       "    </tr>\n",
       "    <tr>\n",
       "      <th>77</th>\n",
       "      <td>15.0</td>\n",
       "      <td>Rank 3</td>\n",
       "      <td>0.197701</td>\n",
       "    </tr>\n",
       "    <tr>\n",
       "      <th>78</th>\n",
       "      <td>25.0</td>\n",
       "      <td>Rank 3</td>\n",
       "      <td>0.458558</td>\n",
       "    </tr>\n",
       "    <tr>\n",
       "      <th>79</th>\n",
       "      <td>25.0</td>\n",
       "      <td>Rank 3</td>\n",
       "      <td>0.434470</td>\n",
       "    </tr>\n",
       "    <tr>\n",
       "      <th>80</th>\n",
       "      <td>25.0</td>\n",
       "      <td>Rank 3</td>\n",
       "      <td>0.477603</td>\n",
       "    </tr>\n",
       "  </tbody>\n",
       "</table>\n",
       "<p>81 rows × 3 columns</p>\n",
       "</div>"
      ],
      "text/plain": [
       "       b variable     value\n",
       "0   20.0   Rank 1  0.254924\n",
       "1   20.0   Rank 1  0.241461\n",
       "2   20.0   Rank 1  0.276636\n",
       "3   10.0   Rank 1  0.636990\n",
       "4   10.0   Rank 1  0.624596\n",
       "..   ...      ...       ...\n",
       "76  15.0   Rank 3  0.168381\n",
       "77  15.0   Rank 3  0.197701\n",
       "78  25.0   Rank 3  0.458558\n",
       "79  25.0   Rank 3  0.434470\n",
       "80  25.0   Rank 3  0.477603\n",
       "\n",
       "[81 rows x 3 columns]"
      ]
     },
     "execution_count": 33,
     "metadata": {},
     "output_type": "execute_result"
    }
   ],
   "source": [
    "a = pd.melt(a, id_vars=['b'], value_vars=['Rank 1', 'Rank 2', 'Rank 3'])\n",
    "a"
   ]
  },
  {
   "cell_type": "code",
   "execution_count": 45,
   "id": "a0239175-d127-4778-8943-4ca80f57846a",
   "metadata": {},
   "outputs": [
    {
     "name": "stdout",
     "output_type": "stream",
     "text": [
      "{'figure.facecolor': 'white', 'axes.labelcolor': '.15', 'xtick.direction': 'out', 'ytick.direction': 'out', 'xtick.color': '.15', 'ytick.color': '.15', 'axes.axisbelow': True, 'grid.linestyle': '-', 'text.color': '.15', 'font.family': ['sans-serif'], 'font.sans-serif': ['Arial', 'DejaVu Sans', 'Liberation Sans', 'Bitstream Vera Sans', 'sans-serif'], 'lines.solid_capstyle': 'round', 'patch.edgecolor': 'w', 'patch.force_edgecolor': True, 'image.cmap': 'rocket', 'xtick.top': False, 'ytick.right': False, 'axes.grid': True, 'axes.facecolor': 'white', 'axes.edgecolor': '.8', 'grid.color': '.8', 'axes.spines.left': True, 'axes.spines.bottom': True, 'axes.spines.right': True, 'axes.spines.top': True, 'xtick.bottom': False, 'ytick.left': False}\n"
     ]
    }
   ],
   "source": [
    "print(sns.axes_style(\"whitegrid\"))\n"
   ]
  },
  {
   "cell_type": "code",
   "execution_count": 49,
   "id": "32a4c035-4837-4d0d-8775-6000201a11c4",
   "metadata": {},
   "outputs": [
    {
     "data": {
      "image/png": "[encoded data removed]",
      "text/plain": [
       "<Figure size 720x360 with 1 Axes>"
      ]
     },
     "metadata": {
      "needs_background": "light"
     },
     "output_type": "display_data"
    }
   ],
   "source": [
    "fig = plt.figure(figsize=(10,5))\n",
    "sns.set(font_scale=1.4)\n",
    "plt.rcParams.update({\n",
    "    \"figure.facecolor\":  (1.0, 0.0, 0.0, 0.0),  # red   with alpha = 30%\n",
    "    \"axes.facecolor\":    (1.0, 1.0, 1.0, 1),  # green with alpha = 50%\n",
    "    \"savefig.facecolor\": (0.0, 0.0, 1.0, 0.0),  # blue  with alpha = 20%\n",
    "})\n",
    "with sns.axes_style({'figure.facecolor': 'white', \n",
    "                     'axes.labelcolor': '.15', \n",
    "                     'xtick.direction': 'out', \n",
    "                     'ytick.direction': 'out', \n",
    "                     'xtick.color': '.15', \n",
    "                     'ytick.color': '.15', \n",
    "                     'axes.axisbelow': True, \n",
    "                     'grid.linestyle': '-', \n",
    "                     'text.color': '.15', \n",
    "                     'font.family': ['sans-serif'], \n",
    "                     'font.sans-serif': ['Arial', 'DejaVu Sans', 'Liberation Sans', 'Bitstream Vera Sans', 'sans-serif'], \n",
    "                     'lines.solid_capstyle': 'round', \n",
    "                     'patch.edgecolor': 'w', \n",
    "                     'patch.force_edgecolor': True, \n",
    "                     'image.cmap': 'rocket', \n",
    "                     'xtick.top': False, \n",
    "                     'ytick.right': False, \n",
    "                     'axes.grid': False, \n",
    "                     'axes.facecolor': 'white', \n",
    "                     'axes.edgecolor': '.8', \n",
    "                     'grid.color': '.8', \n",
    "                     'axes.spines.left': True, 'axes.spines.bottom': True, 'axes.spines.right': True, 'axes.spines.top': True, 'xtick.bottom': False, 'ytick.left': False}):\n",
    "#sns.set(rc={'axes.facecolor':'white', 'figure.facecolor':'white'})\n",
    "    ax = sns.lineplot(x='b', y='value', data=a, hue='variable')\n",
    "    ax.set(ylabel='Relative Frequency')\n",
    "    plt.legend(title='Model')\n",
    "    plt.savefig('./images/b_check.svg', dpi=600)"
   ]
  },
  {
   "cell_type": "code",
   "execution_count": 36,
   "id": "b6b5a968-c7c8-4df5-9752-9c7ffc51a112",
   "metadata": {},
   "outputs": [
    {
     "data": {
      "text/plain": [
       "[Text(0, 0.5, 'Probability')]"
      ]
     },
     "execution_count": 36,
     "metadata": {},
     "output_type": "execute_result"
    },
    {
     "data": {
      "image/png": "[encoded data removed]",
      "text/plain": [
       "<Figure size 720x720 with 1 Axes>"
      ]
     },
     "metadata": {},
     "output_type": "display_data"
    }
   ],
   "source": [
    "fig = plt.figure(figsize=(10,10))\n",
    "ax = sns.lineplot(x='b', y='value', data=a, hue='variable')\n",
    "ax.set(ylabel='Probability')"
   ]
  },
  {
   "cell_type": "code",
   "execution_count": null,
   "id": "7fb45ae9-6ad7-413c-a1e9-0fdc0b20de7a",
   "metadata": {},
   "outputs": [],
   "source": []
  },
  {
   "cell_type": "code",
   "execution_count": null,
   "id": "0c28cf15-b3b8-4447-aabf-cee50f58cb9e",
   "metadata": {},
   "outputs": [],
   "source": []
  },
  {
   "cell_type": "code",
   "execution_count": null,
   "id": "0cd26e71-f3f7-4b74-9fa5-f851f8b86842",
   "metadata": {},
   "outputs": [],
   "source": []
  },
  {
   "cell_type": "code",
   "execution_count": null,
   "id": "0c09cd3f-d890-45b2-b074-591df963ba62",
   "metadata": {},
   "outputs": [],
   "source": []
  },
  {
   "cell_type": "code",
   "execution_count": null,
   "id": "d4af2413-5a28-4c62-b74b-fc6d8cbbe19e",
   "metadata": {},
   "outputs": [],
   "source": []
  },
  {
   "cell_type": "code",
   "execution_count": null,
   "id": "bdeb75ac-7a1f-4877-8bc7-89585d1c0264",
   "metadata": {},
   "outputs": [],
   "source": []
  },
  {
   "cell_type": "code",
   "execution_count": null,
   "id": "6c13689c-2402-48df-b1b2-f8fb15af6705",
   "metadata": {},
   "outputs": [],
   "source": []
  },
  {
   "cell_type": "code",
   "execution_count": null,
   "id": "e280d1e6-2c41-44d1-99ab-ccefea24b504",
   "metadata": {},
   "outputs": [],
   "source": []
  },
  {
   "cell_type": "code",
   "execution_count": null,
   "id": "34af6539-d5b5-4b35-b28c-93043ab79612",
   "metadata": {},
   "outputs": [],
   "source": []
  },
  {
   "cell_type": "code",
   "execution_count": null,
   "id": "658270cf-0cb2-4551-a852-91e2300614e6",
   "metadata": {},
   "outputs": [],
   "source": []
  },
  {
   "cell_type": "code",
   "execution_count": null,
   "id": "b102a36e-db18-4b36-9cb6-0b3eeda74157",
   "metadata": {},
   "outputs": [],
   "source": []
  },
  {
   "cell_type": "code",
   "execution_count": null,
   "id": "d8435811-0174-49ae-aaf5-f762c93e5762",
   "metadata": {},
   "outputs": [],
   "source": []
  }
 ],
 "metadata": {
  "kernelspec": {
   "display_name": "Python 3 (ipykernel)",
   "language": "python",
   "name": "python3"
  },
  "language_info": {
   "codemirror_mode": {
    "name": "ipython",
    "version": 3
   },
   "file_extension": ".py",
   "mimetype": "text/x-python",
   "name": "python",
   "nbconvert_exporter": "python",
   "pygments_lexer": "ipython3",
   "version": "3.9.12"
  }
 },
 "nbformat": 4,
 "nbformat_minor": 5
}
