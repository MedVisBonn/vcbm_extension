{
 "cells": [
  {
   "cell_type": "code",
   "execution_count": 1,
   "id": "92e42d95-adee-4274-b496-18ec6273f6c8",
   "metadata": {},
   "outputs": [],
   "source": [
    "import nrrd\n",
    "import numpy as np\n",
    "from bonndit.utils import power, norm"
   ]
  },
  {
   "cell_type": "code",
   "execution_count": null,
   "id": "03b29e50-49ca-4c68-8e13-7ff9b04fe5d3",
   "metadata": {},
   "outputs": [],
   "source": [
    "\n",
    "for f in []:\n",
    "    fodf, _ = nrrd.read(fodf_name)\n",
    "    rank, _ = nrrd.read(f) \n",
    "    residuals = []\n",
    "    for i, j, k in np.ndindex(fodf.shape):\n",
    "        if fodf[0,i,j,k] == 0: \n",
    "            continue\n",
    "        fodf_norm = norm(fodf[1:,i,j,k])\n",
    "        for l in range(rank.shape[1]):\n",
    "            fodf[1:, i,j,k] -= rank[0, l, i,j,k] * power(rank[1:, l, i,j,k],4)\n",
    "        residuals.append(norm(fodf[1:,i,j,k])/ fodf_norm)\n",
    "    overall_res.append(residuals)"
   ]
  }
 ],
 "metadata": {
  "kernelspec": {
   "display_name": "Python 3 (ipykernel)",
   "language": "python",
   "name": "python3"
  },
  "language_info": {
   "codemirror_mode": {
    "name": "ipython",
    "version": 3
   },
   "file_extension": ".py",
   "mimetype": "text/x-python",
   "name": "python",
   "nbconvert_exporter": "python",
   "pygments_lexer": "ipython3",
   "version": "3.9.12"
  }
 },
 "nbformat": 4,
 "nbformat_minor": 5
}
